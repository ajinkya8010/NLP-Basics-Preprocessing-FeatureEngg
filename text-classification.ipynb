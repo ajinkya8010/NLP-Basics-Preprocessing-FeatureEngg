{
 "cells": [
  {
   "cell_type": "code",
   "execution_count": 3,
   "id": "3ce9b931",
   "metadata": {},
   "outputs": [],
   "source": [
    "import numpy as np\n",
    "import pandas as pd\n",
    "import re\n",
    "import string\n",
    "import nltk"
   ]
  },
  {
   "cell_type": "code",
   "execution_count": 4,
   "id": "936f56e6",
   "metadata": {},
   "outputs": [],
   "source": [
    "df = pd.read_csv('FullDataset/full_dataset.csv')"
   ]
  },
  {
   "cell_type": "code",
   "execution_count": 5,
   "id": "4f794ceb",
   "metadata": {},
   "outputs": [
    {
     "data": {
      "text/html": [
       "<div>\n",
       "<style scoped>\n",
       "    .dataframe tbody tr th:only-of-type {\n",
       "        vertical-align: middle;\n",
       "    }\n",
       "\n",
       "    .dataframe tbody tr th {\n",
       "        vertical-align: top;\n",
       "    }\n",
       "\n",
       "    .dataframe thead th {\n",
       "        text-align: right;\n",
       "    }\n",
       "</style>\n",
       "<table border=\"1\" class=\"dataframe\">\n",
       "  <thead>\n",
       "    <tr style=\"text-align: right;\">\n",
       "      <th></th>\n",
       "      <th>id</th>\n",
       "      <th>content</th>\n",
       "      <th>label</th>\n",
       "    </tr>\n",
       "  </thead>\n",
       "  <tbody>\n",
       "    <tr>\n",
       "      <th>0</th>\n",
       "      <td>3447</td>\n",
       "      <td>Chronic kidney disease (CKD) is a progressive ...</td>\n",
       "      <td>1</td>\n",
       "    </tr>\n",
       "    <tr>\n",
       "      <th>1</th>\n",
       "      <td>2951</td>\n",
       "      <td>Postural orthostatic tachycardia syndrome (POT...</td>\n",
       "      <td>1</td>\n",
       "    </tr>\n",
       "    <tr>\n",
       "      <th>2</th>\n",
       "      <td>5090</td>\n",
       "      <td>Vitamin B12 is a water-soluble vitamin that is...</td>\n",
       "      <td>1</td>\n",
       "    </tr>\n",
       "    <tr>\n",
       "      <th>3</th>\n",
       "      <td>3453</td>\n",
       "      <td>Diclofenac for day-care arthroscopy surgery: c...</td>\n",
       "      <td>0</td>\n",
       "    </tr>\n",
       "    <tr>\n",
       "      <th>4</th>\n",
       "      <td>5057</td>\n",
       "      <td>Attributes and survival patterns of multiple p...</td>\n",
       "      <td>0</td>\n",
       "    </tr>\n",
       "  </tbody>\n",
       "</table>\n",
       "</div>"
      ],
      "text/plain": [
       "     id                                            content  label\n",
       "0  3447  Chronic kidney disease (CKD) is a progressive ...      1\n",
       "1  2951  Postural orthostatic tachycardia syndrome (POT...      1\n",
       "2  5090  Vitamin B12 is a water-soluble vitamin that is...      1\n",
       "3  3453  Diclofenac for day-care arthroscopy surgery: c...      0\n",
       "4  5057  Attributes and survival patterns of multiple p...      0"
      ]
     },
     "execution_count": 5,
     "metadata": {},
     "output_type": "execute_result"
    }
   ],
   "source": [
    "df.head()"
   ]
  },
  {
   "cell_type": "code",
   "execution_count": 6,
   "id": "c31fb116",
   "metadata": {},
   "outputs": [
    {
     "data": {
      "text/plain": [
       "\"Postural orthostatic tachycardia syndrome (POTS) is a disorder that affects the autonomic nervous system. The autonomic nervous system controls involuntary functions such as heart rate, blood pressure, and sweating. People with POTS experience an increase in heart rate and blood pressure when they stand up. This can cause symptoms such as lightheadedness, fainting, and fatigue.\\n\\nObstructive sleep apnea (OSA) is a sleep disorder that occurs when a person's breathing is interrupted during sleep. This can happen when the muscles in the back of the throat relax and block the airway. OSA can cause a person to stop breathing for short periods of time, which can lead to low levels of oxygen in the blood.\\n\\nThere is some evidence that OSA may worsen the symptoms of POTS. One study found that people with POTS who also had OSA were more likely to experience lightheadedness and fainting than people with POTS who did not have OSA. Another study found that people with POTS who had OSA had lower levels of oxygen in their blood during sleep than people with POTS who did not have OSA.\\n\\nIt is not clear why OSA might worsen the symptoms of POTS. One possibility is that OSA can cause inflammation, which can damage blood vessels and lead to problems with blood flow. Another possibility is that OSA can cause changes in the levels of hormones that regulate blood pressure.\\n\\nIf you have POTS, it is important to see a doctor to rule out OSA. If you have OSA, treatment options include lifestyle changes, such as losing weight, quitting smoking, and avoiding alcohol and caffeine, and CPAP therapy. CPAP therapy is a treatment that uses a machine to deliver pressurized air through a mask that is worn over the nose and mouth. This pressurized air helps to keep the airway open during sleep.\\n\\nIf you have both POTS and OSA, treatment for both conditions can help to improve your symptoms and quality of life.\""
      ]
     },
     "execution_count": 6,
     "metadata": {},
     "output_type": "execute_result"
    }
   ],
   "source": [
    "df['content'][1]"
   ]
  },
  {
   "cell_type": "code",
   "execution_count": 7,
   "id": "18525cb6",
   "metadata": {},
   "outputs": [
    {
     "data": {
      "text/plain": [
       "1    5128\n",
       "0    5128\n",
       "Name: label, dtype: int64"
      ]
     },
     "execution_count": 7,
     "metadata": {},
     "output_type": "execute_result"
    }
   ],
   "source": [
    "df['label'].value_counts()"
   ]
  },
  {
   "cell_type": "code",
   "execution_count": 8,
   "id": "f207966e",
   "metadata": {},
   "outputs": [
    {
     "data": {
      "text/plain": [
       "id         0\n",
       "content    0\n",
       "label      0\n",
       "dtype: int64"
      ]
     },
     "execution_count": 8,
     "metadata": {},
     "output_type": "execute_result"
    }
   ],
   "source": [
    "df.isnull().sum()"
   ]
  },
  {
   "cell_type": "code",
   "execution_count": 9,
   "id": "ea02910b",
   "metadata": {},
   "outputs": [
    {
     "data": {
      "text/plain": [
       "0"
      ]
     },
     "execution_count": 9,
     "metadata": {},
     "output_type": "execute_result"
    }
   ],
   "source": [
    "df.duplicated().sum()"
   ]
  },
  {
   "cell_type": "code",
   "execution_count": 10,
   "id": "2254cc43",
   "metadata": {},
   "outputs": [],
   "source": [
    "df.drop_duplicates(inplace=True)"
   ]
  },
  {
   "cell_type": "code",
   "execution_count": 11,
   "id": "8bbdbf38",
   "metadata": {},
   "outputs": [
    {
     "data": {
      "text/plain": [
       "0"
      ]
     },
     "execution_count": 11,
     "metadata": {},
     "output_type": "execute_result"
    }
   ],
   "source": [
    "df.duplicated().sum()"
   ]
  },
  {
   "cell_type": "markdown",
   "id": "b838d547",
   "metadata": {},
   "source": [
    "# Converting to lower case"
   ]
  },
  {
   "cell_type": "code",
   "execution_count": 12,
   "id": "a0ad6935",
   "metadata": {},
   "outputs": [
    {
     "data": {
      "text/plain": [
       "0        chronic kidney disease (ckd) is a progressive ...\n",
       "1        postural orthostatic tachycardia syndrome (pot...\n",
       "2        vitamin b12 is a water-soluble vitamin that is...\n",
       "3        diclofenac for day-care arthroscopy surgery: c...\n",
       "4        attributes and survival patterns of multiple p...\n",
       "                               ...                        \n",
       "10251    human t cell lymphotropic virus infection in g...\n",
       "10252    chronic kidney disease (ckd) is a progressive ...\n",
       "10253    obstructive sleep apnea (osa) is a common slee...\n",
       "10254    obstructive sleep apnea (osa) and fibromyalgia...\n",
       "10255    parascapular free flaps for head and neck reco...\n",
       "Name: content, Length: 10256, dtype: object"
      ]
     },
     "execution_count": 12,
     "metadata": {},
     "output_type": "execute_result"
    }
   ],
   "source": [
    "df.head()\n",
    "df['content'] = df['content'].str.lower()\n",
    "df['content']"
   ]
  },
  {
   "cell_type": "markdown",
   "id": "c87f6909",
   "metadata": {},
   "source": [
    "# Removing URLs"
   ]
  },
  {
   "cell_type": "code",
   "execution_count": 13,
   "id": "6cdd652f",
   "metadata": {},
   "outputs": [
    {
     "data": {
      "text/plain": [
       "0        chronic kidney disease (ckd) is a progressive ...\n",
       "1        postural orthostatic tachycardia syndrome (pot...\n",
       "2        vitamin b12 is a water-soluble vitamin that is...\n",
       "3        diclofenac for day-care arthroscopy surgery: c...\n",
       "4        attributes and survival patterns of multiple p...\n",
       "                               ...                        \n",
       "10251    human t cell lymphotropic virus infection in g...\n",
       "10252    chronic kidney disease (ckd) is a progressive ...\n",
       "10253    obstructive sleep apnea (osa) is a common slee...\n",
       "10254    obstructive sleep apnea (osa) and fibromyalgia...\n",
       "10255    parascapular free flaps for head and neck reco...\n",
       "Name: content, Length: 10256, dtype: object"
      ]
     },
     "execution_count": 13,
     "metadata": {},
     "output_type": "execute_result"
    }
   ],
   "source": [
    "def remove_url(text):\n",
    "    pattern = re.compile(r'https?://\\S+|www\\.\\S+')\n",
    "    return pattern.sub(r'', text)\n",
    "\n",
    "df['content'] = df['content'].apply(lambda x: remove_url(x))\n",
    "df['content']"
   ]
  },
  {
   "cell_type": "markdown",
   "id": "e9784f5e",
   "metadata": {},
   "source": [
    "# Remove Punctuation"
   ]
  },
  {
   "cell_type": "code",
   "execution_count": 14,
   "id": "e15a2c1c",
   "metadata": {},
   "outputs": [
    {
     "data": {
      "text/plain": [
       "0        chronic kidney disease ckd is a progressive lo...\n",
       "1        postural orthostatic tachycardia syndrome pots...\n",
       "2        vitamin b12 is a watersoluble vitamin that is ...\n",
       "3        diclofenac for daycare arthroscopy surgery com...\n",
       "4        attributes and survival patterns of multiple p...\n",
       "                               ...                        \n",
       "10251    human t cell lymphotropic virus infection in g...\n",
       "10252    chronic kidney disease ckd is a progressive co...\n",
       "10253    obstructive sleep apnea osa is a common sleep ...\n",
       "10254    obstructive sleep apnea osa and fibromyalgia a...\n",
       "10255    parascapular free flaps for head and neck reco...\n",
       "Name: content, Length: 10256, dtype: object"
      ]
     },
     "execution_count": 14,
     "metadata": {},
     "output_type": "execute_result"
    }
   ],
   "source": [
    "def remove_punc(text):\n",
    "    return text.translate(str.maketrans('','',exclude))\n",
    "\n",
    "exclude = string.punctuation\n",
    "df['content'] = df['content'].apply(lambda x: remove_punc(x))\n",
    "df['content']"
   ]
  },
  {
   "cell_type": "markdown",
   "id": "b0e46939",
   "metadata": {},
   "source": [
    "# Removing stop words"
   ]
  },
  {
   "cell_type": "code",
   "execution_count": 15,
   "id": "a14c19fb",
   "metadata": {},
   "outputs": [
    {
     "name": "stderr",
     "output_type": "stream",
     "text": [
      "[nltk_data] Downloading package stopwords to\n",
      "[nltk_data]     C:\\Users\\Ajinkya\\AppData\\Roaming\\nltk_data...\n",
      "[nltk_data]   Package stopwords is already up-to-date!\n"
     ]
    },
    {
     "data": {
      "text/plain": [
       "0        chronic kidney disease ckd   progressive loss ...\n",
       "1        postural orthostatic tachycardia syndrome pots...\n",
       "2        vitamin b12   watersoluble vitamin   essential...\n",
       "3        diclofenac  daycare arthroscopy surgery compar...\n",
       "4        attributes  survival patterns  multiple primar...\n",
       "                               ...                        \n",
       "10251    human  cell lymphotropic virus infection  guay...\n",
       "10252    chronic kidney disease ckd   progressive condi...\n",
       "10253    obstructive sleep apnea osa   common sleep dis...\n",
       "10254    obstructive sleep apnea osa  fibromyalgia   co...\n",
       "10255    parascapular free flaps  head  neck reconstruc...\n",
       "Name: content, Length: 10256, dtype: object"
      ]
     },
     "execution_count": 15,
     "metadata": {},
     "output_type": "execute_result"
    }
   ],
   "source": [
    "nltk.download('stopwords')\n",
    "\n",
    "from nltk.corpus import stopwords\n",
    "english_stopwords = stopwords.words('english')\n",
    "\n",
    "def remove_stopwords(text):\n",
    "    new_text=[]\n",
    "    for word in text.split():\n",
    "        if word in english_stopwords:\n",
    "            new_text.append('')\n",
    "        else:\n",
    "            new_text.append(word)\n",
    "    x = new_text[:]\n",
    "    new_text.clear()\n",
    "    return \" \".join(x)\n",
    "   \n",
    "df['content'] = df['content'].apply(lambda x: remove_stopwords(x))\n",
    "df['content']"
   ]
  },
  {
   "cell_type": "markdown",
   "id": "20264dad",
   "metadata": {},
   "source": [
    "# Remove digits"
   ]
  },
  {
   "cell_type": "code",
   "execution_count": 16,
   "id": "94c948f2",
   "metadata": {},
   "outputs": [
    {
     "data": {
      "text/html": [
       "<div>\n",
       "<style scoped>\n",
       "    .dataframe tbody tr th:only-of-type {\n",
       "        vertical-align: middle;\n",
       "    }\n",
       "\n",
       "    .dataframe tbody tr th {\n",
       "        vertical-align: top;\n",
       "    }\n",
       "\n",
       "    .dataframe thead th {\n",
       "        text-align: right;\n",
       "    }\n",
       "</style>\n",
       "<table border=\"1\" class=\"dataframe\">\n",
       "  <thead>\n",
       "    <tr style=\"text-align: right;\">\n",
       "      <th></th>\n",
       "      <th>id</th>\n",
       "      <th>content</th>\n",
       "      <th>label</th>\n",
       "    </tr>\n",
       "  </thead>\n",
       "  <tbody>\n",
       "    <tr>\n",
       "      <th>0</th>\n",
       "      <td>3447</td>\n",
       "      <td>chronic kidney disease ckd   progressive loss ...</td>\n",
       "      <td>1</td>\n",
       "    </tr>\n",
       "    <tr>\n",
       "      <th>1</th>\n",
       "      <td>2951</td>\n",
       "      <td>postural orthostatic tachycardia syndrome pots...</td>\n",
       "      <td>1</td>\n",
       "    </tr>\n",
       "    <tr>\n",
       "      <th>2</th>\n",
       "      <td>5090</td>\n",
       "      <td>vitamin b   watersoluble vitamin   essential  ...</td>\n",
       "      <td>1</td>\n",
       "    </tr>\n",
       "    <tr>\n",
       "      <th>3</th>\n",
       "      <td>3453</td>\n",
       "      <td>diclofenac  daycare arthroscopy surgery compar...</td>\n",
       "      <td>0</td>\n",
       "    </tr>\n",
       "    <tr>\n",
       "      <th>4</th>\n",
       "      <td>5057</td>\n",
       "      <td>attributes  survival patterns  multiple primar...</td>\n",
       "      <td>0</td>\n",
       "    </tr>\n",
       "  </tbody>\n",
       "</table>\n",
       "</div>"
      ],
      "text/plain": [
       "     id                                            content  label\n",
       "0  3447  chronic kidney disease ckd   progressive loss ...      1\n",
       "1  2951  postural orthostatic tachycardia syndrome pots...      1\n",
       "2  5090  vitamin b   watersoluble vitamin   essential  ...      1\n",
       "3  3453  diclofenac  daycare arthroscopy surgery compar...      0\n",
       "4  5057  attributes  survival patterns  multiple primar...      0"
      ]
     },
     "execution_count": 16,
     "metadata": {},
     "output_type": "execute_result"
    }
   ],
   "source": [
    "df['content'] = df['content'].apply(lambda text: re.sub(r'\\d+', '', text))\n",
    "df.head()"
   ]
  },
  {
   "cell_type": "code",
   "execution_count": 17,
   "id": "044b8b36",
   "metadata": {},
   "outputs": [],
   "source": [
    "X = df.iloc[:,1:2]\n",
    "y = df['label']"
   ]
  },
  {
   "cell_type": "code",
   "execution_count": 18,
   "id": "c2f50b0d",
   "metadata": {},
   "outputs": [
    {
     "data": {
      "text/html": [
       "<div>\n",
       "<style scoped>\n",
       "    .dataframe tbody tr th:only-of-type {\n",
       "        vertical-align: middle;\n",
       "    }\n",
       "\n",
       "    .dataframe tbody tr th {\n",
       "        vertical-align: top;\n",
       "    }\n",
       "\n",
       "    .dataframe thead th {\n",
       "        text-align: right;\n",
       "    }\n",
       "</style>\n",
       "<table border=\"1\" class=\"dataframe\">\n",
       "  <thead>\n",
       "    <tr style=\"text-align: right;\">\n",
       "      <th></th>\n",
       "      <th>content</th>\n",
       "    </tr>\n",
       "  </thead>\n",
       "  <tbody>\n",
       "    <tr>\n",
       "      <th>0</th>\n",
       "      <td>chronic kidney disease ckd   progressive loss ...</td>\n",
       "    </tr>\n",
       "    <tr>\n",
       "      <th>1</th>\n",
       "      <td>postural orthostatic tachycardia syndrome pots...</td>\n",
       "    </tr>\n",
       "    <tr>\n",
       "      <th>2</th>\n",
       "      <td>vitamin b   watersoluble vitamin   essential  ...</td>\n",
       "    </tr>\n",
       "    <tr>\n",
       "      <th>3</th>\n",
       "      <td>diclofenac  daycare arthroscopy surgery compar...</td>\n",
       "    </tr>\n",
       "    <tr>\n",
       "      <th>4</th>\n",
       "      <td>attributes  survival patterns  multiple primar...</td>\n",
       "    </tr>\n",
       "    <tr>\n",
       "      <th>...</th>\n",
       "      <td>...</td>\n",
       "    </tr>\n",
       "    <tr>\n",
       "      <th>10251</th>\n",
       "      <td>human  cell lymphotropic virus infection  guay...</td>\n",
       "    </tr>\n",
       "    <tr>\n",
       "      <th>10252</th>\n",
       "      <td>chronic kidney disease ckd   progressive condi...</td>\n",
       "    </tr>\n",
       "    <tr>\n",
       "      <th>10253</th>\n",
       "      <td>obstructive sleep apnea osa   common sleep dis...</td>\n",
       "    </tr>\n",
       "    <tr>\n",
       "      <th>10254</th>\n",
       "      <td>obstructive sleep apnea osa  fibromyalgia   co...</td>\n",
       "    </tr>\n",
       "    <tr>\n",
       "      <th>10255</th>\n",
       "      <td>parascapular free flaps  head  neck reconstruc...</td>\n",
       "    </tr>\n",
       "  </tbody>\n",
       "</table>\n",
       "<p>10256 rows × 1 columns</p>\n",
       "</div>"
      ],
      "text/plain": [
       "                                                 content\n",
       "0      chronic kidney disease ckd   progressive loss ...\n",
       "1      postural orthostatic tachycardia syndrome pots...\n",
       "2      vitamin b   watersoluble vitamin   essential  ...\n",
       "3      diclofenac  daycare arthroscopy surgery compar...\n",
       "4      attributes  survival patterns  multiple primar...\n",
       "...                                                  ...\n",
       "10251  human  cell lymphotropic virus infection  guay...\n",
       "10252  chronic kidney disease ckd   progressive condi...\n",
       "10253  obstructive sleep apnea osa   common sleep dis...\n",
       "10254  obstructive sleep apnea osa  fibromyalgia   co...\n",
       "10255  parascapular free flaps  head  neck reconstruc...\n",
       "\n",
       "[10256 rows x 1 columns]"
      ]
     },
     "execution_count": 18,
     "metadata": {},
     "output_type": "execute_result"
    }
   ],
   "source": [
    "X"
   ]
  },
  {
   "cell_type": "code",
   "execution_count": 19,
   "id": "c6014ee0",
   "metadata": {},
   "outputs": [
    {
     "data": {
      "text/plain": [
       "0        1\n",
       "1        1\n",
       "2        1\n",
       "3        0\n",
       "4        0\n",
       "        ..\n",
       "10251    0\n",
       "10252    1\n",
       "10253    1\n",
       "10254    1\n",
       "10255    0\n",
       "Name: label, Length: 10256, dtype: int64"
      ]
     },
     "execution_count": 19,
     "metadata": {},
     "output_type": "execute_result"
    }
   ],
   "source": [
    "y"
   ]
  },
  {
   "cell_type": "code",
   "execution_count": 20,
   "id": "fb01ea97",
   "metadata": {},
   "outputs": [],
   "source": [
    "from sklearn.preprocessing import LabelEncoder\n",
    "\n",
    "encoder = LabelEncoder()\n",
    "\n",
    "y = encoder.fit_transform(y)"
   ]
  },
  {
   "cell_type": "code",
   "execution_count": 21,
   "id": "e49f7132",
   "metadata": {},
   "outputs": [
    {
     "data": {
      "text/plain": [
       "array([1, 1, 1, ..., 1, 1, 0], dtype=int64)"
      ]
     },
     "execution_count": 21,
     "metadata": {},
     "output_type": "execute_result"
    }
   ],
   "source": [
    "y"
   ]
  },
  {
   "cell_type": "code",
   "execution_count": 22,
   "id": "4a47c8cf",
   "metadata": {},
   "outputs": [],
   "source": [
    "from sklearn.model_selection import train_test_split\n",
    "X_train,X_test,y_train,y_test = train_test_split(X,y,test_size=0.2,random_state=1)"
   ]
  },
  {
   "cell_type": "code",
   "execution_count": 23,
   "id": "59d30e1a",
   "metadata": {},
   "outputs": [
    {
     "data": {
      "text/plain": [
       "(8204, 1)"
      ]
     },
     "execution_count": 23,
     "metadata": {},
     "output_type": "execute_result"
    }
   ],
   "source": [
    "X_train.shape"
   ]
  },
  {
   "cell_type": "code",
   "execution_count": 38,
   "id": "f0ced488",
   "metadata": {},
   "outputs": [],
   "source": [
    "# Applying BoW\n",
    "from sklearn.feature_extraction.text import CountVectorizer"
   ]
  },
  {
   "cell_type": "code",
   "execution_count": 39,
   "id": "d038ae3a",
   "metadata": {},
   "outputs": [],
   "source": [
    "cv = CountVectorizer()"
   ]
  },
  {
   "cell_type": "code",
   "execution_count": 40,
   "id": "847ace00",
   "metadata": {},
   "outputs": [],
   "source": [
    "X_train_bow = cv.fit_transform(X_train['content']).toarray()\n",
    "X_test_bow = cv.transform(X_test['content']).toarray()"
   ]
  },
  {
   "cell_type": "code",
   "execution_count": 61,
   "id": "98e12175",
   "metadata": {},
   "outputs": [
    {
     "data": {
      "text/plain": [
       "(8204, 29682)"
      ]
     },
     "execution_count": 61,
     "metadata": {},
     "output_type": "execute_result"
    }
   ],
   "source": [
    "X_train_bow.shape"
   ]
  },
  {
   "cell_type": "markdown",
   "id": "823592f4",
   "metadata": {},
   "source": [
    "# Fitting GNB"
   ]
  },
  {
   "cell_type": "code",
   "execution_count": 36,
   "id": "f937899f",
   "metadata": {},
   "outputs": [
    {
     "data": {
      "text/html": [
       "<style>#sk-container-id-1 {color: black;background-color: white;}#sk-container-id-1 pre{padding: 0;}#sk-container-id-1 div.sk-toggleable {background-color: white;}#sk-container-id-1 label.sk-toggleable__label {cursor: pointer;display: block;width: 100%;margin-bottom: 0;padding: 0.3em;box-sizing: border-box;text-align: center;}#sk-container-id-1 label.sk-toggleable__label-arrow:before {content: \"▸\";float: left;margin-right: 0.25em;color: #696969;}#sk-container-id-1 label.sk-toggleable__label-arrow:hover:before {color: black;}#sk-container-id-1 div.sk-estimator:hover label.sk-toggleable__label-arrow:before {color: black;}#sk-container-id-1 div.sk-toggleable__content {max-height: 0;max-width: 0;overflow: hidden;text-align: left;background-color: #f0f8ff;}#sk-container-id-1 div.sk-toggleable__content pre {margin: 0.2em;color: black;border-radius: 0.25em;background-color: #f0f8ff;}#sk-container-id-1 input.sk-toggleable__control:checked~div.sk-toggleable__content {max-height: 200px;max-width: 100%;overflow: auto;}#sk-container-id-1 input.sk-toggleable__control:checked~label.sk-toggleable__label-arrow:before {content: \"▾\";}#sk-container-id-1 div.sk-estimator input.sk-toggleable__control:checked~label.sk-toggleable__label {background-color: #d4ebff;}#sk-container-id-1 div.sk-label input.sk-toggleable__control:checked~label.sk-toggleable__label {background-color: #d4ebff;}#sk-container-id-1 input.sk-hidden--visually {border: 0;clip: rect(1px 1px 1px 1px);clip: rect(1px, 1px, 1px, 1px);height: 1px;margin: -1px;overflow: hidden;padding: 0;position: absolute;width: 1px;}#sk-container-id-1 div.sk-estimator {font-family: monospace;background-color: #f0f8ff;border: 1px dotted black;border-radius: 0.25em;box-sizing: border-box;margin-bottom: 0.5em;}#sk-container-id-1 div.sk-estimator:hover {background-color: #d4ebff;}#sk-container-id-1 div.sk-parallel-item::after {content: \"\";width: 100%;border-bottom: 1px solid gray;flex-grow: 1;}#sk-container-id-1 div.sk-label:hover label.sk-toggleable__label {background-color: #d4ebff;}#sk-container-id-1 div.sk-serial::before {content: \"\";position: absolute;border-left: 1px solid gray;box-sizing: border-box;top: 0;bottom: 0;left: 50%;z-index: 0;}#sk-container-id-1 div.sk-serial {display: flex;flex-direction: column;align-items: center;background-color: white;padding-right: 0.2em;padding-left: 0.2em;position: relative;}#sk-container-id-1 div.sk-item {position: relative;z-index: 1;}#sk-container-id-1 div.sk-parallel {display: flex;align-items: stretch;justify-content: center;background-color: white;position: relative;}#sk-container-id-1 div.sk-item::before, #sk-container-id-1 div.sk-parallel-item::before {content: \"\";position: absolute;border-left: 1px solid gray;box-sizing: border-box;top: 0;bottom: 0;left: 50%;z-index: -1;}#sk-container-id-1 div.sk-parallel-item {display: flex;flex-direction: column;z-index: 1;position: relative;background-color: white;}#sk-container-id-1 div.sk-parallel-item:first-child::after {align-self: flex-end;width: 50%;}#sk-container-id-1 div.sk-parallel-item:last-child::after {align-self: flex-start;width: 50%;}#sk-container-id-1 div.sk-parallel-item:only-child::after {width: 0;}#sk-container-id-1 div.sk-dashed-wrapped {border: 1px dashed gray;margin: 0 0.4em 0.5em 0.4em;box-sizing: border-box;padding-bottom: 0.4em;background-color: white;}#sk-container-id-1 div.sk-label label {font-family: monospace;font-weight: bold;display: inline-block;line-height: 1.2em;}#sk-container-id-1 div.sk-label-container {text-align: center;}#sk-container-id-1 div.sk-container {/* jupyter's `normalize.less` sets `[hidden] { display: none; }` but bootstrap.min.css set `[hidden] { display: none !important; }` so we also need the `!important` here to be able to override the default hidden behavior on the sphinx rendered scikit-learn.org. See: https://github.com/scikit-learn/scikit-learn/issues/21755 */display: inline-block !important;position: relative;}#sk-container-id-1 div.sk-text-repr-fallback {display: none;}</style><div id=\"sk-container-id-1\" class=\"sk-top-container\"><div class=\"sk-text-repr-fallback\"><pre>GaussianNB()</pre><b>In a Jupyter environment, please rerun this cell to show the HTML representation or trust the notebook. <br />On GitHub, the HTML representation is unable to render, please try loading this page with nbviewer.org.</b></div><div class=\"sk-container\" hidden><div class=\"sk-item\"><div class=\"sk-estimator sk-toggleable\"><input class=\"sk-toggleable__control sk-hidden--visually\" id=\"sk-estimator-id-1\" type=\"checkbox\" checked><label for=\"sk-estimator-id-1\" class=\"sk-toggleable__label sk-toggleable__label-arrow\">GaussianNB</label><div class=\"sk-toggleable__content\"><pre>GaussianNB()</pre></div></div></div></div></div>"
      ],
      "text/plain": [
       "GaussianNB()"
      ]
     },
     "execution_count": 36,
     "metadata": {},
     "output_type": "execute_result"
    }
   ],
   "source": [
    "from sklearn.naive_bayes import GaussianNB\n",
    "gnb = GaussianNB()\n",
    "\n",
    "gnb.fit(X_train_bow,y_train)"
   ]
  },
  {
   "cell_type": "code",
   "execution_count": 37,
   "id": "7164016f",
   "metadata": {},
   "outputs": [
    {
     "data": {
      "text/plain": [
       "0.9692982456140351"
      ]
     },
     "execution_count": 37,
     "metadata": {},
     "output_type": "execute_result"
    }
   ],
   "source": [
    "y_pred = gnb.predict(X_test_bow)\n",
    "\n",
    "from sklearn.metrics import accuracy_score,confusion_matrix\n",
    "accuracy_score(y_test,y_pred)"
   ]
  },
  {
   "cell_type": "markdown",
   "id": "69361de0",
   "metadata": {},
   "source": [
    "# Saving the model GNB"
   ]
  },
  {
   "cell_type": "code",
   "execution_count": 43,
   "id": "83586d26",
   "metadata": {},
   "outputs": [
    {
     "data": {
      "text/plain": [
       "['gaussianNB.joblib']"
      ]
     },
     "execution_count": 43,
     "metadata": {},
     "output_type": "execute_result"
    }
   ],
   "source": [
    "from joblib import dump,load\n",
    "\n",
    "#Save model to the file\n",
    "dump(gnb,filename=\"gaussianNB.joblib\")"
   ]
  },
  {
   "cell_type": "code",
   "execution_count": 38,
   "id": "65a01603",
   "metadata": {},
   "outputs": [
    {
     "data": {
      "text/plain": [
       "array([[1007,   23],\n",
       "       [  40,  982]], dtype=int64)"
      ]
     },
     "execution_count": 38,
     "metadata": {},
     "output_type": "execute_result"
    }
   ],
   "source": [
    "confusion_matrix(y_test,y_pred)"
   ]
  },
  {
   "cell_type": "markdown",
   "id": "5e490895",
   "metadata": {},
   "source": [
    "# Loading the model GNB"
   ]
  },
  {
   "cell_type": "code",
   "execution_count": 65,
   "id": "d3b302ac",
   "metadata": {},
   "outputs": [],
   "source": [
    "from joblib import load\n",
    "\n",
    "# Load the model\n",
    "gnb = load(\"gaussianNB.joblib\")"
   ]
  },
  {
   "cell_type": "markdown",
   "id": "de4c00b3",
   "metadata": {},
   "source": [
    "# Testing GNB"
   ]
  },
  {
   "cell_type": "code",
   "execution_count": 95,
   "id": "addb2f5a",
   "metadata": {},
   "outputs": [
    {
     "name": "stdout",
     "output_type": "stream",
     "text": [
      "Predicted Label: [1]\n"
     ]
    }
   ],
   "source": [
    "health_content = \"To alleviate headaches, try staying hydrated, resting in a quiet environment, managing stress, avoiding triggers like bright lights and loud noises, taking over-the-counter pain relievers as needed, applying heat or cold packs, gentle massage, keeping a headache diary to identify triggers, staying active with regular exercise, and seeking professional help if needed.\"\n",
    "\n",
    "# Preprocess the input health content (assuming you have a function for preprocessing)\n",
    "health_content = remove_punc(health_content)\n",
    "health_content = remove_stopwords(health_content)\n",
    "health_content.lower()\n",
    "# Transform the preprocessed content into a Bag-of-Words representation\n",
    "content_bow = cv.transform([health_content]).toarray()\n",
    "\n",
    "# Use the trained Gaussian Naive Bayes model to make predictions\n",
    "predicted_label = gnb.predict(content_bow)\n",
    "\n",
    "# Print the predicted label\n",
    "print(\"Predicted Label:\", predicted_label)"
   ]
  },
  {
   "cell_type": "markdown",
   "id": "7cc85f1b",
   "metadata": {},
   "source": [
    "# Classification report GNB"
   ]
  },
  {
   "cell_type": "code",
   "execution_count": 67,
   "id": "935d92b8",
   "metadata": {},
   "outputs": [
    {
     "name": "stdout",
     "output_type": "stream",
     "text": [
      "Classification Report:\n",
      "              precision    recall  f1-score   support\n",
      "\n",
      "           0       0.96      0.98      0.97      1030\n",
      "           1       0.98      0.96      0.97      1022\n",
      "\n",
      "    accuracy                           0.97      2052\n",
      "   macro avg       0.97      0.97      0.97      2052\n",
      "weighted avg       0.97      0.97      0.97      2052\n",
      "\n"
     ]
    }
   ],
   "source": [
    "from sklearn.metrics import classification_report\n",
    "y_pred = gnb.predict(X_test_bow)\n",
    "# Generate the classification report\n",
    "report = classification_report(y_test, y_pred)\n",
    "\n",
    "# Print the classification report\n",
    "print(\"Classification Report:\")\n",
    "print(report)\n"
   ]
  },
  {
   "cell_type": "markdown",
   "id": "0a8613e3",
   "metadata": {},
   "source": [
    "# Fitting RF"
   ]
  },
  {
   "cell_type": "code",
   "execution_count": 49,
   "id": "6676b0e0",
   "metadata": {},
   "outputs": [
    {
     "data": {
      "text/plain": [
       "0.9897660818713451"
      ]
     },
     "execution_count": 49,
     "metadata": {},
     "output_type": "execute_result"
    }
   ],
   "source": [
    "from sklearn.ensemble import RandomForestClassifier\n",
    "rf = RandomForestClassifier()\n",
    "\n",
    "rf.fit(X_train_bow,y_train)\n",
    "y_pred = rf.predict(X_test_bow)\n",
    "accuracy_score(y_test,y_pred)"
   ]
  },
  {
   "cell_type": "markdown",
   "id": "95bd0c34",
   "metadata": {},
   "source": [
    "# Loading the model RF"
   ]
  },
  {
   "cell_type": "code",
   "execution_count": 35,
   "id": "4b1920c7",
   "metadata": {},
   "outputs": [],
   "source": [
    "from joblib import load\n",
    "\n",
    "# Load the model\n",
    "rf = load(\"randomForest.joblib\")"
   ]
  },
  {
   "cell_type": "markdown",
   "id": "64446ed9",
   "metadata": {},
   "source": [
    "# Testing model RF"
   ]
  },
  {
   "cell_type": "code",
   "execution_count": 71,
   "id": "d34bf4cd",
   "metadata": {},
   "outputs": [
    {
     "name": "stdout",
     "output_type": "stream",
     "text": [
      "Predicted Label: [1]\n"
     ]
    }
   ],
   "source": [
    "health_content = \"On examination, the signs exhibited may include pallor (pale skin, mucosa, conjunctiva and nail beds), but this is not a reliable sign. A blue coloration of the sclera may be noticed in some cases of iron-deficiency anemia.[24] There may be signs of specific causes of anemia, e.g. koilonychia (in iron deficiency), jaundice (when anemia results from abnormal break down of red blood cells – in hemolytic anemia), nerve cell damage (vitamin B12 deficiency), bone deformities (found in thalassemia major) or leg ulcers (seen in sickle-cell disease). In severe anemia, there may be signs of a hyperdynamic circulation: tachycardia (a fast heart rate), bounding pulse, flow murmurs, and cardiac ventricular hypertrophy (enlargement). There may be signs of heart failure. Pica, the consumption of non-food items such as ice, paper, wax, grass, hair or dirt, may be a symptom of iron deficiency;[25] although it occurs often in those who have normal levels of hemoglobin. Chronic anemia may result in behavioral disturbances in children as a direct result of impaired neurological development in infants, and reduced academic performance in children of school age. Restless legs syndrome is more common in people with iron-deficiency anemia than in the general population.\"\n",
    "\n",
    "# Preprocess the input health content (assuming you have a function for preprocessing)\n",
    "health_content = remove_punc(health_content)\n",
    "health_content = remove_stopwords(health_content)\n",
    "health_content.lower()\n",
    "# Transform the preprocessed content into a Bag-of-Words representation\n",
    "content_bow = cv.transform([health_content]).toarray()\n",
    "\n",
    "# Use the trained Gaussian Naive Bayes model to make predictions\n",
    "predicted_label = rf.predict(content_bow)\n",
    "\n",
    "# Print the predicted label\n",
    "print(\"Predicted Label:\", predicted_label)"
   ]
  },
  {
   "cell_type": "markdown",
   "id": "e877bcf7",
   "metadata": {},
   "source": [
    "# Saving model RF"
   ]
  },
  {
   "cell_type": "code",
   "execution_count": 55,
   "id": "ebfdc992",
   "metadata": {},
   "outputs": [
    {
     "data": {
      "text/plain": [
       "['randomForest.joblib']"
      ]
     },
     "execution_count": 55,
     "metadata": {},
     "output_type": "execute_result"
    }
   ],
   "source": [
    "dump(rf,filename=\"randomForest.joblib\")"
   ]
  },
  {
   "cell_type": "markdown",
   "id": "c36e5819",
   "metadata": {},
   "source": [
    "# Classification report for RF"
   ]
  },
  {
   "cell_type": "code",
   "execution_count": 78,
   "id": "ab8121d7",
   "metadata": {},
   "outputs": [
    {
     "name": "stdout",
     "output_type": "stream",
     "text": [
      "Classification Report:\n",
      "              precision    recall  f1-score   support\n",
      "\n",
      "           0       0.98      1.00      0.99      1030\n",
      "           1       1.00      0.98      0.99      1022\n",
      "\n",
      "    accuracy                           0.99      2052\n",
      "   macro avg       0.99      0.99      0.99      2052\n",
      "weighted avg       0.99      0.99      0.99      2052\n",
      "\n"
     ]
    }
   ],
   "source": [
    "from sklearn.metrics import classification_report\n",
    "y_pred = rf.predict(X_test_bow)\n",
    "# Generate the classification report\n",
    "report = classification_report(y_test, y_pred)\n",
    "\n",
    "# Print the classification report\n",
    "print(\"Classification Report:\")\n",
    "print(report)\n"
   ]
  },
  {
   "cell_type": "markdown",
   "id": "c2677ea4",
   "metadata": {},
   "source": [
    "# Confusion Matrix"
   ]
  },
  {
   "cell_type": "code",
   "execution_count": 79,
   "id": "448da6e4",
   "metadata": {},
   "outputs": [
    {
     "data": {
      "text/plain": [
       "array([[1027,    3],\n",
       "       [  18, 1004]], dtype=int64)"
      ]
     },
     "execution_count": 79,
     "metadata": {},
     "output_type": "execute_result"
    }
   ],
   "source": [
    "confusion_matrix(y_test,y_pred)"
   ]
  },
  {
   "cell_type": "markdown",
   "id": "55f10527",
   "metadata": {},
   "source": [
    "# Fitting Multinomial Naive Bayes "
   ]
  },
  {
   "cell_type": "code",
   "execution_count": 73,
   "id": "662da1da",
   "metadata": {},
   "outputs": [
    {
     "data": {
      "text/plain": [
       "0.9897660818713451"
      ]
     },
     "execution_count": 73,
     "metadata": {},
     "output_type": "execute_result"
    }
   ],
   "source": [
    "# Fitting Multinomial Naive Bayes \n",
    "from sklearn.naive_bayes import MultinomialNB\n",
    "mnb_clf = MultinomialNB()\n",
    "mnb_clf.fit(X_train_bow,y_train)\n",
    "y_pred = mnb_clf.predict(X_test_bow)\n",
    "accuracy_score(y_test,y_pred)\n"
   ]
  },
  {
   "cell_type": "markdown",
   "id": "78e22e3e",
   "metadata": {},
   "source": [
    "# Classification report MNB"
   ]
  },
  {
   "cell_type": "code",
   "execution_count": 74,
   "id": "37eee911",
   "metadata": {},
   "outputs": [
    {
     "name": "stdout",
     "output_type": "stream",
     "text": [
      "Classification Report:\n",
      "              precision    recall  f1-score   support\n",
      "\n",
      "           0       0.98      1.00      0.99      1030\n",
      "           1       1.00      0.98      0.99      1022\n",
      "\n",
      "    accuracy                           0.99      2052\n",
      "   macro avg       0.99      0.99      0.99      2052\n",
      "weighted avg       0.99      0.99      0.99      2052\n",
      "\n"
     ]
    }
   ],
   "source": [
    "from sklearn.metrics import classification_report\n",
    "# Generate the classification report\n",
    "report = classification_report(y_test, y_pred)\n",
    "\n",
    "# Print the classification report\n",
    "print(\"Classification Report:\")\n",
    "print(report)\n"
   ]
  },
  {
   "cell_type": "markdown",
   "id": "ebe76c5c",
   "metadata": {},
   "source": [
    "# Saving the model MNB"
   ]
  },
  {
   "cell_type": "code",
   "execution_count": 76,
   "id": "c18255d4",
   "metadata": {},
   "outputs": [
    {
     "data": {
      "text/plain": [
       "['maivebayes.joblib']"
      ]
     },
     "execution_count": 76,
     "metadata": {},
     "output_type": "execute_result"
    }
   ],
   "source": [
    "from joblib import dump\n",
    "dump(mnb_clf,filename=\"maivebayes.joblib\")"
   ]
  },
  {
   "cell_type": "markdown",
   "id": "0925ba5c",
   "metadata": {},
   "source": [
    "# Confusion matrix"
   ]
  },
  {
   "cell_type": "code",
   "execution_count": 77,
   "id": "459c343e",
   "metadata": {},
   "outputs": [
    {
     "data": {
      "text/plain": [
       "array([[1026,    4],\n",
       "       [  17, 1005]], dtype=int64)"
      ]
     },
     "execution_count": 77,
     "metadata": {},
     "output_type": "execute_result"
    }
   ],
   "source": [
    "confusion_matrix(y_test,y_pred)"
   ]
  },
  {
   "cell_type": "markdown",
   "id": "3b494255",
   "metadata": {},
   "source": [
    "# Testing MNB"
   ]
  },
  {
   "cell_type": "code",
   "execution_count": 93,
   "id": "edfec77e",
   "metadata": {},
   "outputs": [
    {
     "name": "stdout",
     "output_type": "stream",
     "text": [
      "Predicted Label: [1]\n"
     ]
    }
   ],
   "source": [
    "health_content = \"To alleviate headaches, try staying hydrated, resting in a quiet environment, managing stress, avoiding triggers like bright lights and loud noises, taking over-the-counter pain relievers as needed, applying heat or cold packs, gentle massage, keeping a headache diary to identify triggers, staying active with regular exercise, and seeking professional help if needed.\"\n",
    "# Preprocess the input health content (assuming you have a function for preprocessing)\n",
    "health_content = remove_punc(health_content)\n",
    "health_content = remove_stopwords(health_content)\n",
    "health_content.lower()\n",
    "# Transform the preprocessed content into a Bag-of-Words representation\n",
    "content_bow = cv.transform([health_content]).toarray()\n",
    "\n",
    "# Use the trained Gaussian Naive Bayes model to make predictions\n",
    "predicted_label = mnb_clf.predict(content_bow)\n",
    "\n",
    "# Print the predicted label\n",
    "print(\"Predicted Label:\", predicted_label)"
   ]
  },
  {
   "cell_type": "markdown",
   "id": "55eb3c01",
   "metadata": {},
   "source": [
    "## Using TfIdf RF"
   ]
  },
  {
   "cell_type": "code",
   "execution_count": 24,
   "id": "d5958aa1",
   "metadata": {},
   "outputs": [],
   "source": [
    "from sklearn.feature_extraction.text import TfidfVectorizer"
   ]
  },
  {
   "cell_type": "code",
   "execution_count": 25,
   "id": "d959bb0e",
   "metadata": {},
   "outputs": [],
   "source": [
    "tfidf = TfidfVectorizer()"
   ]
  },
  {
   "cell_type": "code",
   "execution_count": 26,
   "id": "6b1dad3b",
   "metadata": {},
   "outputs": [],
   "source": [
    "X_train_tfidf = tfidf.fit_transform(X_train['content']).toarray()\n",
    "X_test_tfidf = tfidf.transform(X_test['content'])"
   ]
  },
  {
   "cell_type": "code",
   "execution_count": 28,
   "id": "5db7959a",
   "metadata": {},
   "outputs": [
    {
     "ename": "NameError",
     "evalue": "name 'accuracy_score' is not defined",
     "output_type": "error",
     "traceback": [
      "\u001b[1;31m---------------------------------------------------------------------------\u001b[0m",
      "\u001b[1;31mNameError\u001b[0m                                 Traceback (most recent call last)",
      "Cell \u001b[1;32mIn[28], line 7\u001b[0m\n\u001b[0;32m      4\u001b[0m rf\u001b[38;5;241m.\u001b[39mfit(X_train_tfidf,y_train)\n\u001b[0;32m      5\u001b[0m y_pred \u001b[38;5;241m=\u001b[39m rf\u001b[38;5;241m.\u001b[39mpredict(X_test_tfidf)\n\u001b[1;32m----> 7\u001b[0m \u001b[43maccuracy_score\u001b[49m(y_test,y_pred)\n",
      "\u001b[1;31mNameError\u001b[0m: name 'accuracy_score' is not defined"
     ]
    }
   ],
   "source": [
    "from sklearn.ensemble import RandomForestClassifier\n",
    "rf = RandomForestClassifier()\n",
    "\n",
    "rf.fit(X_train_tfidf,y_train)\n",
    "y_pred = rf.predict(X_test_tfidf)\n"
   ]
  },
  {
   "cell_type": "code",
   "execution_count": 29,
   "id": "693936d0",
   "metadata": {},
   "outputs": [
    {
     "data": {
      "text/plain": [
       "0.9907407407407407"
      ]
     },
     "execution_count": 29,
     "metadata": {},
     "output_type": "execute_result"
    }
   ],
   "source": [
    "from sklearn.metrics import accuracy_score\n",
    "accuracy_score(y_test,y_pred)"
   ]
  },
  {
   "cell_type": "markdown",
   "id": "0861aa77",
   "metadata": {},
   "source": [
    "# Saving the RF model"
   ]
  },
  {
   "cell_type": "code",
   "execution_count": 30,
   "id": "e3169bab",
   "metadata": {},
   "outputs": [
    {
     "data": {
      "text/plain": [
       "['randomForestTFIDF.joblib']"
      ]
     },
     "execution_count": 30,
     "metadata": {},
     "output_type": "execute_result"
    }
   ],
   "source": [
    "from joblib import dump,load\n",
    "\n",
    "#Save model to the file\n",
    "dump(rf,filename=\"randomForestTFIDF.joblib\")"
   ]
  },
  {
   "cell_type": "markdown",
   "id": "063dfc41",
   "metadata": {},
   "source": [
    "# Classification report RF"
   ]
  },
  {
   "cell_type": "code",
   "execution_count": 31,
   "id": "2da83296",
   "metadata": {},
   "outputs": [
    {
     "name": "stdout",
     "output_type": "stream",
     "text": [
      "Classification Report:\n",
      "              precision    recall  f1-score   support\n",
      "\n",
      "           0       0.99      0.99      0.99      1030\n",
      "           1       0.99      0.99      0.99      1022\n",
      "\n",
      "    accuracy                           0.99      2052\n",
      "   macro avg       0.99      0.99      0.99      2052\n",
      "weighted avg       0.99      0.99      0.99      2052\n",
      "\n"
     ]
    }
   ],
   "source": [
    "from sklearn.metrics import classification_report\n",
    "# Generate the classification report\n",
    "report = classification_report(y_test, y_pred)\n",
    "\n",
    "# Print the classification report\n",
    "print(\"Classification Report:\")\n",
    "print(report)"
   ]
  },
  {
   "cell_type": "code",
   "execution_count": 46,
   "id": "39dc39ee",
   "metadata": {},
   "outputs": [],
   "source": [
    "from joblib import load\n",
    "\n",
    "# Load the model\n",
    "rf_tdif = load(\"randomForestTFIDF.joblib\")"
   ]
  },
  {
   "cell_type": "markdown",
   "id": "aed0207c",
   "metadata": {},
   "source": [
    "# Testing RF"
   ]
  },
  {
   "cell_type": "code",
   "execution_count": 69,
   "id": "0970aa6f",
   "metadata": {},
   "outputs": [
    {
     "name": "stdout",
     "output_type": "stream",
     "text": [
      "Predicted Label: [0]\n"
     ]
    }
   ],
   "source": [
    "health_content = \"Symptoms of anemia can come on quickly or slowly.[21] Early on there may be few or no symptoms.[21] If the anemia continues slowly (chronic), the body may adapt and compensate for this change. In this case, no symptoms may appear until the anemia becomes more severe.\"\n",
    "# Preprocess the input health content (assuming you have a function for preprocessing)\n",
    "health_content = remove_punc(health_content)\n",
    "health_content = remove_stopwords(health_content)\n",
    "health_content.lower()\n",
    "# Transform the preprocessed content into a Bag-of-Words representation\n",
    "content_bow = tfidf.transform([health_content]).toarray()\n",
    "\n",
    "# Use the trained Gaussian Naive Bayes model to make predictions\n",
    "predicted_label = rf_tdif.predict(content_bow)\n",
    "\n",
    "# Print the predicted label\n",
    "print(\"Predicted Label:\", predicted_label)"
   ]
  },
  {
   "cell_type": "code",
   "execution_count": null,
   "id": "054d69c9",
   "metadata": {},
   "outputs": [],
   "source": []
  }
 ],
 "metadata": {
  "kernelspec": {
   "display_name": "Python 3",
   "language": "python",
   "name": "python3"
  },
  "language_info": {
   "codemirror_mode": {
    "name": "ipython",
    "version": 3
   },
   "file_extension": ".py",
   "mimetype": "text/x-python",
   "name": "python",
   "nbconvert_exporter": "python",
   "pygments_lexer": "ipython3",
   "version": "3.10.5"
  }
 },
 "nbformat": 4,
 "nbformat_minor": 5
}
