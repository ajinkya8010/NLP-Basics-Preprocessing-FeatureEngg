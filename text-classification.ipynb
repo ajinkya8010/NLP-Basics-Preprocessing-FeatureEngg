{
 "cells": [
  {
   "cell_type": "code",
   "execution_count": 1,
   "id": "3ce9b931",
   "metadata": {},
   "outputs": [],
   "source": [
    "import numpy as np\n",
    "import pandas as pd\n",
    "import re\n",
    "import string\n",
    "import nltk\n",
    "from sklearn.metrics import accuracy_score,confusion_matrix\n",
    "from sklearn.metrics import classification_report"
   ]
  },
  {
   "cell_type": "code",
   "execution_count": 2,
   "id": "936f56e6",
   "metadata": {},
   "outputs": [],
   "source": [
    "df = pd.read_csv('FullDataset/final_dataset.csv')"
   ]
  },
  {
   "cell_type": "code",
   "execution_count": 3,
   "id": "4f794ceb",
   "metadata": {},
   "outputs": [
    {
     "data": {
      "text/html": [
       "<div>\n",
       "<style scoped>\n",
       "    .dataframe tbody tr th:only-of-type {\n",
       "        vertical-align: middle;\n",
       "    }\n",
       "\n",
       "    .dataframe tbody tr th {\n",
       "        vertical-align: top;\n",
       "    }\n",
       "\n",
       "    .dataframe thead th {\n",
       "        text-align: right;\n",
       "    }\n",
       "</style>\n",
       "<table border=\"1\" class=\"dataframe\">\n",
       "  <thead>\n",
       "    <tr style=\"text-align: right;\">\n",
       "      <th></th>\n",
       "      <th>id</th>\n",
       "      <th>content</th>\n",
       "      <th>label</th>\n",
       "    </tr>\n",
       "  </thead>\n",
       "  <tbody>\n",
       "    <tr>\n",
       "      <th>0</th>\n",
       "      <td>1</td>\n",
       "      <td>Electromagnetic fields (EMFs) are invisible li...</td>\n",
       "      <td>1</td>\n",
       "    </tr>\n",
       "    <tr>\n",
       "      <th>1</th>\n",
       "      <td>2</td>\n",
       "      <td>Cryptosporidium infection in acquired immunode...</td>\n",
       "      <td>0</td>\n",
       "    </tr>\n",
       "    <tr>\n",
       "      <th>2</th>\n",
       "      <td>3</td>\n",
       "      <td>In today's world, it is not uncommon to see p...</td>\n",
       "      <td>1</td>\n",
       "    </tr>\n",
       "    <tr>\n",
       "      <th>3</th>\n",
       "      <td>4</td>\n",
       "      <td>Tension pneumopericardium as a complication of...</td>\n",
       "      <td>0</td>\n",
       "    </tr>\n",
       "    <tr>\n",
       "      <th>4</th>\n",
       "      <td>5</td>\n",
       "      <td>Urgent care center pediatric telephone advice....</td>\n",
       "      <td>0</td>\n",
       "    </tr>\n",
       "  </tbody>\n",
       "</table>\n",
       "</div>"
      ],
      "text/plain": [
       "   id                                            content  label\n",
       "0   1  Electromagnetic fields (EMFs) are invisible li...      1\n",
       "1   2  Cryptosporidium infection in acquired immunode...      0\n",
       "2   3   In today's world, it is not uncommon to see p...      1\n",
       "3   4  Tension pneumopericardium as a complication of...      0\n",
       "4   5  Urgent care center pediatric telephone advice....      0"
      ]
     },
     "execution_count": 3,
     "metadata": {},
     "output_type": "execute_result"
    }
   ],
   "source": [
    "df.head()"
   ]
  },
  {
   "cell_type": "code",
   "execution_count": 4,
   "id": "c31fb116",
   "metadata": {},
   "outputs": [
    {
     "data": {
      "text/plain": [
       "'Cryptosporidium infection in acquired immunodeficiency syndrome: not always a poor prognosis. Chronic diarrhea and malabsorption accompanied by simultaneous infection with the protozoa Giardia lamblia and Cryptosporidium occurred in a 22-year-old homosexual man with antibody to human immunodeficiency virus (HIV). Small bowel biopsy demonstrated total villous atrophy and marked mononuclear infiltration in the lamina propria simulating celiac disease. Treatment with metronidazole resulted in resolution of diarrhea, clearance of parasites, and marked improvement in small bowel histology. Although diarrhea and malabsorption in immunocompromised patients with cryptosporidiosis are regarded as ominous, our patient remained disease free for the next 3 years. Thus, infection with Cryptosporidium in patients with HIV does not always lead to intractable diarrhea or death. '"
      ]
     },
     "execution_count": 4,
     "metadata": {},
     "output_type": "execute_result"
    }
   ],
   "source": [
    "df['content'][1]"
   ]
  },
  {
   "cell_type": "code",
   "execution_count": 5,
   "id": "18525cb6",
   "metadata": {},
   "outputs": [
    {
     "data": {
      "text/plain": [
       "0    11550\n",
       "1    11497\n",
       "Name: label, dtype: int64"
      ]
     },
     "execution_count": 5,
     "metadata": {},
     "output_type": "execute_result"
    }
   ],
   "source": [
    "df['label'].value_counts()"
   ]
  },
  {
   "cell_type": "code",
   "execution_count": 6,
   "id": "f207966e",
   "metadata": {},
   "outputs": [
    {
     "data": {
      "text/plain": [
       "id         0\n",
       "content    0\n",
       "label      0\n",
       "dtype: int64"
      ]
     },
     "execution_count": 6,
     "metadata": {},
     "output_type": "execute_result"
    }
   ],
   "source": [
    "df.isnull().sum()"
   ]
  },
  {
   "cell_type": "code",
   "execution_count": 7,
   "id": "ea02910b",
   "metadata": {},
   "outputs": [
    {
     "data": {
      "text/plain": [
       "0"
      ]
     },
     "execution_count": 7,
     "metadata": {},
     "output_type": "execute_result"
    }
   ],
   "source": [
    "df.duplicated().sum()"
   ]
  },
  {
   "cell_type": "code",
   "execution_count": 8,
   "id": "2254cc43",
   "metadata": {},
   "outputs": [],
   "source": [
    "df.drop_duplicates(inplace=True)"
   ]
  },
  {
   "cell_type": "code",
   "execution_count": 9,
   "id": "8bbdbf38",
   "metadata": {},
   "outputs": [
    {
     "data": {
      "text/plain": [
       "0"
      ]
     },
     "execution_count": 9,
     "metadata": {},
     "output_type": "execute_result"
    }
   ],
   "source": [
    "df.duplicated().sum()"
   ]
  },
  {
   "cell_type": "markdown",
   "id": "b838d547",
   "metadata": {},
   "source": [
    "## Converting to lower case"
   ]
  },
  {
   "cell_type": "code",
   "execution_count": 10,
   "id": "a0ad6935",
   "metadata": {},
   "outputs": [
    {
     "data": {
      "text/plain": [
       "0        electromagnetic fields (emfs) are invisible li...\n",
       "1        cryptosporidium infection in acquired immunode...\n",
       "2         in today's world, it is not uncommon to see p...\n",
       "3        tension pneumopericardium as a complication of...\n",
       "4        urgent care center pediatric telephone advice....\n",
       "                               ...                        \n",
       "23042    the trauma triage rule: a new, resource-based ...\n",
       "23043    penetrating keratoplasty for keratoconus: comp...\n",
       "23044    identification of a melanoma progression antig...\n",
       "23045    monoclonal antibody-purged autologous bone mar...\n",
       "23046    warm heart surgery. hypothermia is widely ackn...\n",
       "Name: content, Length: 23047, dtype: object"
      ]
     },
     "execution_count": 10,
     "metadata": {},
     "output_type": "execute_result"
    }
   ],
   "source": [
    "df.head()\n",
    "df['content'] = df['content'].str.lower()\n",
    "df['content']"
   ]
  },
  {
   "cell_type": "markdown",
   "id": "c87f6909",
   "metadata": {},
   "source": [
    "## Removing URLs"
   ]
  },
  {
   "cell_type": "code",
   "execution_count": 11,
   "id": "6cdd652f",
   "metadata": {},
   "outputs": [
    {
     "data": {
      "text/plain": [
       "0        electromagnetic fields (emfs) are invisible li...\n",
       "1        cryptosporidium infection in acquired immunode...\n",
       "2         in today's world, it is not uncommon to see p...\n",
       "3        tension pneumopericardium as a complication of...\n",
       "4        urgent care center pediatric telephone advice....\n",
       "                               ...                        \n",
       "23042    the trauma triage rule: a new, resource-based ...\n",
       "23043    penetrating keratoplasty for keratoconus: comp...\n",
       "23044    identification of a melanoma progression antig...\n",
       "23045    monoclonal antibody-purged autologous bone mar...\n",
       "23046    warm heart surgery. hypothermia is widely ackn...\n",
       "Name: content, Length: 23047, dtype: object"
      ]
     },
     "execution_count": 11,
     "metadata": {},
     "output_type": "execute_result"
    }
   ],
   "source": [
    "def remove_url(text):\n",
    "    pattern = re.compile(r'https?://\\S+|www\\.\\S+')\n",
    "    return pattern.sub(r'', text)\n",
    "\n",
    "df['content'] = df['content'].apply(lambda x: remove_url(x))\n",
    "df['content']"
   ]
  },
  {
   "cell_type": "markdown",
   "id": "e9784f5e",
   "metadata": {},
   "source": [
    "## Remove Punctuation"
   ]
  },
  {
   "cell_type": "code",
   "execution_count": 12,
   "id": "e15a2c1c",
   "metadata": {},
   "outputs": [
    {
     "data": {
      "text/plain": [
       "0        electromagnetic fields emfs are invisible line...\n",
       "1        cryptosporidium infection in acquired immunode...\n",
       "2         in todays world it is not uncommon to see peo...\n",
       "3        tension pneumopericardium as a complication of...\n",
       "4        urgent care center pediatric telephone advice ...\n",
       "                               ...                        \n",
       "23042    the trauma triage rule a new resourcebased app...\n",
       "23043    penetrating keratoplasty for keratoconus compl...\n",
       "23044    identification of a melanoma progression antig...\n",
       "23045    monoclonal antibodypurged autologous bone marr...\n",
       "23046    warm heart surgery hypothermia is widely ackno...\n",
       "Name: content, Length: 23047, dtype: object"
      ]
     },
     "execution_count": 12,
     "metadata": {},
     "output_type": "execute_result"
    }
   ],
   "source": [
    "def remove_punc(text):\n",
    "    return text.translate(str.maketrans('','',exclude))\n",
    "\n",
    "exclude = string.punctuation\n",
    "df['content'] = df['content'].apply(lambda x: remove_punc(x))\n",
    "df['content']"
   ]
  },
  {
   "cell_type": "markdown",
   "id": "b0e46939",
   "metadata": {},
   "source": [
    "## Removing stop words"
   ]
  },
  {
   "cell_type": "code",
   "execution_count": 13,
   "id": "a14c19fb",
   "metadata": {},
   "outputs": [
    {
     "name": "stderr",
     "output_type": "stream",
     "text": [
      "[nltk_data] Downloading package stopwords to\n",
      "[nltk_data]     C:\\Users\\Ajinkya\\AppData\\Roaming\\nltk_data...\n",
      "[nltk_data]   Package stopwords is already up-to-date!\n"
     ]
    },
    {
     "data": {
      "text/plain": [
       "0        electromagnetic fields emfs  invisible lines  ...\n",
       "1        cryptosporidium infection  acquired immunodefi...\n",
       "2         todays world    uncommon  see people making p...\n",
       "3        tension pneumopericardium   complication  sing...\n",
       "4        urgent care center pediatric telephone advice ...\n",
       "                               ...                        \n",
       "23042     trauma triage rule  new resourcebased approac...\n",
       "23043    penetrating keratoplasty  keratoconus complica...\n",
       "23044    identification   melanoma progression antigen ...\n",
       "23045    monoclonal antibodypurged autologous bone marr...\n",
       "23046    warm heart surgery hypothermia  widely acknowl...\n",
       "Name: content, Length: 23047, dtype: object"
      ]
     },
     "execution_count": 13,
     "metadata": {},
     "output_type": "execute_result"
    }
   ],
   "source": [
    "nltk.download('stopwords')\n",
    "\n",
    "from nltk.corpus import stopwords\n",
    "english_stopwords = stopwords.words('english')\n",
    "\n",
    "def remove_stopwords(text):\n",
    "    new_text=[]\n",
    "    for word in text.split():\n",
    "        if word in english_stopwords:\n",
    "            new_text.append('')\n",
    "        else:\n",
    "            new_text.append(word)\n",
    "    x = new_text[:]\n",
    "    new_text.clear()\n",
    "    return \" \".join(x)\n",
    "   \n",
    "df['content'] = df['content'].apply(lambda x: remove_stopwords(x))\n",
    "df['content']"
   ]
  },
  {
   "cell_type": "markdown",
   "id": "20264dad",
   "metadata": {},
   "source": [
    "## Remove digits"
   ]
  },
  {
   "cell_type": "code",
   "execution_count": 14,
   "id": "94c948f2",
   "metadata": {},
   "outputs": [
    {
     "data": {
      "text/html": [
       "<div>\n",
       "<style scoped>\n",
       "    .dataframe tbody tr th:only-of-type {\n",
       "        vertical-align: middle;\n",
       "    }\n",
       "\n",
       "    .dataframe tbody tr th {\n",
       "        vertical-align: top;\n",
       "    }\n",
       "\n",
       "    .dataframe thead th {\n",
       "        text-align: right;\n",
       "    }\n",
       "</style>\n",
       "<table border=\"1\" class=\"dataframe\">\n",
       "  <thead>\n",
       "    <tr style=\"text-align: right;\">\n",
       "      <th></th>\n",
       "      <th>id</th>\n",
       "      <th>content</th>\n",
       "      <th>label</th>\n",
       "    </tr>\n",
       "  </thead>\n",
       "  <tbody>\n",
       "    <tr>\n",
       "      <th>0</th>\n",
       "      <td>1</td>\n",
       "      <td>electromagnetic fields emfs  invisible lines  ...</td>\n",
       "      <td>1</td>\n",
       "    </tr>\n",
       "    <tr>\n",
       "      <th>1</th>\n",
       "      <td>2</td>\n",
       "      <td>cryptosporidium infection  acquired immunodefi...</td>\n",
       "      <td>0</td>\n",
       "    </tr>\n",
       "    <tr>\n",
       "      <th>2</th>\n",
       "      <td>3</td>\n",
       "      <td>todays world    uncommon  see people making p...</td>\n",
       "      <td>1</td>\n",
       "    </tr>\n",
       "    <tr>\n",
       "      <th>3</th>\n",
       "      <td>4</td>\n",
       "      <td>tension pneumopericardium   complication  sing...</td>\n",
       "      <td>0</td>\n",
       "    </tr>\n",
       "    <tr>\n",
       "      <th>4</th>\n",
       "      <td>5</td>\n",
       "      <td>urgent care center pediatric telephone advice ...</td>\n",
       "      <td>0</td>\n",
       "    </tr>\n",
       "  </tbody>\n",
       "</table>\n",
       "</div>"
      ],
      "text/plain": [
       "   id                                            content  label\n",
       "0   1  electromagnetic fields emfs  invisible lines  ...      1\n",
       "1   2  cryptosporidium infection  acquired immunodefi...      0\n",
       "2   3   todays world    uncommon  see people making p...      1\n",
       "3   4  tension pneumopericardium   complication  sing...      0\n",
       "4   5  urgent care center pediatric telephone advice ...      0"
      ]
     },
     "execution_count": 14,
     "metadata": {},
     "output_type": "execute_result"
    }
   ],
   "source": [
    "df['content'] = df['content'].apply(lambda text: re.sub(r'\\d+', '', text))\n",
    "df.head()"
   ]
  },
  {
   "cell_type": "code",
   "execution_count": 15,
   "id": "044b8b36",
   "metadata": {},
   "outputs": [],
   "source": [
    "X = df.iloc[:,1:2]\n",
    "y = df['label']"
   ]
  },
  {
   "cell_type": "code",
   "execution_count": 16,
   "id": "c2f50b0d",
   "metadata": {},
   "outputs": [
    {
     "data": {
      "text/html": [
       "<div>\n",
       "<style scoped>\n",
       "    .dataframe tbody tr th:only-of-type {\n",
       "        vertical-align: middle;\n",
       "    }\n",
       "\n",
       "    .dataframe tbody tr th {\n",
       "        vertical-align: top;\n",
       "    }\n",
       "\n",
       "    .dataframe thead th {\n",
       "        text-align: right;\n",
       "    }\n",
       "</style>\n",
       "<table border=\"1\" class=\"dataframe\">\n",
       "  <thead>\n",
       "    <tr style=\"text-align: right;\">\n",
       "      <th></th>\n",
       "      <th>content</th>\n",
       "    </tr>\n",
       "  </thead>\n",
       "  <tbody>\n",
       "    <tr>\n",
       "      <th>0</th>\n",
       "      <td>electromagnetic fields emfs  invisible lines  ...</td>\n",
       "    </tr>\n",
       "    <tr>\n",
       "      <th>1</th>\n",
       "      <td>cryptosporidium infection  acquired immunodefi...</td>\n",
       "    </tr>\n",
       "    <tr>\n",
       "      <th>2</th>\n",
       "      <td>todays world    uncommon  see people making p...</td>\n",
       "    </tr>\n",
       "    <tr>\n",
       "      <th>3</th>\n",
       "      <td>tension pneumopericardium   complication  sing...</td>\n",
       "    </tr>\n",
       "    <tr>\n",
       "      <th>4</th>\n",
       "      <td>urgent care center pediatric telephone advice ...</td>\n",
       "    </tr>\n",
       "    <tr>\n",
       "      <th>...</th>\n",
       "      <td>...</td>\n",
       "    </tr>\n",
       "    <tr>\n",
       "      <th>23042</th>\n",
       "      <td>trauma triage rule  new resourcebased approac...</td>\n",
       "    </tr>\n",
       "    <tr>\n",
       "      <th>23043</th>\n",
       "      <td>penetrating keratoplasty  keratoconus complica...</td>\n",
       "    </tr>\n",
       "    <tr>\n",
       "      <th>23044</th>\n",
       "      <td>identification   melanoma progression antigen ...</td>\n",
       "    </tr>\n",
       "    <tr>\n",
       "      <th>23045</th>\n",
       "      <td>monoclonal antibodypurged autologous bone marr...</td>\n",
       "    </tr>\n",
       "    <tr>\n",
       "      <th>23046</th>\n",
       "      <td>warm heart surgery hypothermia  widely acknowl...</td>\n",
       "    </tr>\n",
       "  </tbody>\n",
       "</table>\n",
       "<p>23047 rows × 1 columns</p>\n",
       "</div>"
      ],
      "text/plain": [
       "                                                 content\n",
       "0      electromagnetic fields emfs  invisible lines  ...\n",
       "1      cryptosporidium infection  acquired immunodefi...\n",
       "2       todays world    uncommon  see people making p...\n",
       "3      tension pneumopericardium   complication  sing...\n",
       "4      urgent care center pediatric telephone advice ...\n",
       "...                                                  ...\n",
       "23042   trauma triage rule  new resourcebased approac...\n",
       "23043  penetrating keratoplasty  keratoconus complica...\n",
       "23044  identification   melanoma progression antigen ...\n",
       "23045  monoclonal antibodypurged autologous bone marr...\n",
       "23046  warm heart surgery hypothermia  widely acknowl...\n",
       "\n",
       "[23047 rows x 1 columns]"
      ]
     },
     "execution_count": 16,
     "metadata": {},
     "output_type": "execute_result"
    }
   ],
   "source": [
    "X"
   ]
  },
  {
   "cell_type": "code",
   "execution_count": 17,
   "id": "c6014ee0",
   "metadata": {},
   "outputs": [
    {
     "data": {
      "text/plain": [
       "0        1\n",
       "1        0\n",
       "2        1\n",
       "3        0\n",
       "4        0\n",
       "        ..\n",
       "23042    0\n",
       "23043    0\n",
       "23044    0\n",
       "23045    0\n",
       "23046    0\n",
       "Name: label, Length: 23047, dtype: int64"
      ]
     },
     "execution_count": 17,
     "metadata": {},
     "output_type": "execute_result"
    }
   ],
   "source": [
    "y"
   ]
  },
  {
   "cell_type": "code",
   "execution_count": 18,
   "id": "fb01ea97",
   "metadata": {},
   "outputs": [],
   "source": [
    "from sklearn.preprocessing import LabelEncoder\n",
    "\n",
    "encoder = LabelEncoder()\n",
    "\n",
    "y = encoder.fit_transform(y)"
   ]
  },
  {
   "cell_type": "code",
   "execution_count": 19,
   "id": "e49f7132",
   "metadata": {},
   "outputs": [
    {
     "data": {
      "text/plain": [
       "array([1, 0, 1, ..., 0, 0, 0], dtype=int64)"
      ]
     },
     "execution_count": 19,
     "metadata": {},
     "output_type": "execute_result"
    }
   ],
   "source": [
    "y"
   ]
  },
  {
   "cell_type": "code",
   "execution_count": 20,
   "id": "4a47c8cf",
   "metadata": {},
   "outputs": [],
   "source": [
    "from sklearn.model_selection import train_test_split\n",
    "X_train,X_test,y_train,y_test = train_test_split(X,y,test_size=0.2,random_state=1)"
   ]
  },
  {
   "cell_type": "code",
   "execution_count": 21,
   "id": "59d30e1a",
   "metadata": {},
   "outputs": [
    {
     "data": {
      "text/plain": [
       "(18437, 1)"
      ]
     },
     "execution_count": 21,
     "metadata": {},
     "output_type": "execute_result"
    }
   ],
   "source": [
    "X_train.shape"
   ]
  },
  {
   "cell_type": "code",
   "execution_count": 46,
   "id": "f0ced488",
   "metadata": {},
   "outputs": [],
   "source": [
    "# Applying BoW\n",
    "from sklearn.feature_extraction.text import CountVectorizer"
   ]
  },
  {
   "cell_type": "code",
   "execution_count": 47,
   "id": "d038ae3a",
   "metadata": {},
   "outputs": [],
   "source": [
    "cv = CountVectorizer()"
   ]
  },
  {
   "cell_type": "code",
   "execution_count": 48,
   "id": "847ace00",
   "metadata": {},
   "outputs": [
    {
     "ename": "MemoryError",
     "evalue": "Unable to allocate 6.59 GiB for an array with shape (18437, 47986) and data type int64",
     "output_type": "error",
     "traceback": [
      "\u001b[1;31m---------------------------------------------------------------------------\u001b[0m",
      "\u001b[1;31mMemoryError\u001b[0m                               Traceback (most recent call last)",
      "Cell \u001b[1;32mIn[48], line 1\u001b[0m\n\u001b[1;32m----> 1\u001b[0m X_train_bow \u001b[38;5;241m=\u001b[39m \u001b[43mcv\u001b[49m\u001b[38;5;241;43m.\u001b[39;49m\u001b[43mfit_transform\u001b[49m\u001b[43m(\u001b[49m\u001b[43mX_train\u001b[49m\u001b[43m[\u001b[49m\u001b[38;5;124;43m'\u001b[39;49m\u001b[38;5;124;43mcontent\u001b[39;49m\u001b[38;5;124;43m'\u001b[39;49m\u001b[43m]\u001b[49m\u001b[43m)\u001b[49m\u001b[38;5;241;43m.\u001b[39;49m\u001b[43mtoarray\u001b[49m\u001b[43m(\u001b[49m\u001b[43m)\u001b[49m\n\u001b[0;32m      2\u001b[0m X_test_bow \u001b[38;5;241m=\u001b[39m cv\u001b[38;5;241m.\u001b[39mtransform(X_test[\u001b[38;5;124m'\u001b[39m\u001b[38;5;124mcontent\u001b[39m\u001b[38;5;124m'\u001b[39m])\u001b[38;5;241m.\u001b[39mtoarray()\n",
      "File \u001b[1;32mc:\\Users\\Ajinkya\\AppData\\Local\\Programs\\Python\\Python310\\lib\\site-packages\\scipy\\sparse\\_compressed.py:1051\u001b[0m, in \u001b[0;36m_cs_matrix.toarray\u001b[1;34m(self, order, out)\u001b[0m\n\u001b[0;32m   1049\u001b[0m \u001b[38;5;28;01mif\u001b[39;00m out \u001b[38;5;129;01mis\u001b[39;00m \u001b[38;5;28;01mNone\u001b[39;00m \u001b[38;5;129;01mand\u001b[39;00m order \u001b[38;5;129;01mis\u001b[39;00m \u001b[38;5;28;01mNone\u001b[39;00m:\n\u001b[0;32m   1050\u001b[0m     order \u001b[38;5;241m=\u001b[39m \u001b[38;5;28mself\u001b[39m\u001b[38;5;241m.\u001b[39m_swap(\u001b[38;5;124m'\u001b[39m\u001b[38;5;124mcf\u001b[39m\u001b[38;5;124m'\u001b[39m)[\u001b[38;5;241m0\u001b[39m]\n\u001b[1;32m-> 1051\u001b[0m out \u001b[38;5;241m=\u001b[39m \u001b[38;5;28;43mself\u001b[39;49m\u001b[38;5;241;43m.\u001b[39;49m\u001b[43m_process_toarray_args\u001b[49m\u001b[43m(\u001b[49m\u001b[43morder\u001b[49m\u001b[43m,\u001b[49m\u001b[43m \u001b[49m\u001b[43mout\u001b[49m\u001b[43m)\u001b[49m\n\u001b[0;32m   1052\u001b[0m \u001b[38;5;28;01mif\u001b[39;00m \u001b[38;5;129;01mnot\u001b[39;00m (out\u001b[38;5;241m.\u001b[39mflags\u001b[38;5;241m.\u001b[39mc_contiguous \u001b[38;5;129;01mor\u001b[39;00m out\u001b[38;5;241m.\u001b[39mflags\u001b[38;5;241m.\u001b[39mf_contiguous):\n\u001b[0;32m   1053\u001b[0m     \u001b[38;5;28;01mraise\u001b[39;00m \u001b[38;5;167;01mValueError\u001b[39;00m(\u001b[38;5;124m'\u001b[39m\u001b[38;5;124mOutput array must be C or F contiguous\u001b[39m\u001b[38;5;124m'\u001b[39m)\n",
      "File \u001b[1;32mc:\\Users\\Ajinkya\\AppData\\Local\\Programs\\Python\\Python310\\lib\\site-packages\\scipy\\sparse\\_base.py:1298\u001b[0m, in \u001b[0;36mspmatrix._process_toarray_args\u001b[1;34m(self, order, out)\u001b[0m\n\u001b[0;32m   1296\u001b[0m     \u001b[38;5;28;01mreturn\u001b[39;00m out\n\u001b[0;32m   1297\u001b[0m \u001b[38;5;28;01melse\u001b[39;00m:\n\u001b[1;32m-> 1298\u001b[0m     \u001b[38;5;28;01mreturn\u001b[39;00m \u001b[43mnp\u001b[49m\u001b[38;5;241;43m.\u001b[39;49m\u001b[43mzeros\u001b[49m\u001b[43m(\u001b[49m\u001b[38;5;28;43mself\u001b[39;49m\u001b[38;5;241;43m.\u001b[39;49m\u001b[43mshape\u001b[49m\u001b[43m,\u001b[49m\u001b[43m \u001b[49m\u001b[43mdtype\u001b[49m\u001b[38;5;241;43m=\u001b[39;49m\u001b[38;5;28;43mself\u001b[39;49m\u001b[38;5;241;43m.\u001b[39;49m\u001b[43mdtype\u001b[49m\u001b[43m,\u001b[49m\u001b[43m \u001b[49m\u001b[43morder\u001b[49m\u001b[38;5;241;43m=\u001b[39;49m\u001b[43morder\u001b[49m\u001b[43m)\u001b[49m\n",
      "\u001b[1;31mMemoryError\u001b[0m: Unable to allocate 6.59 GiB for an array with shape (18437, 47986) and data type int64"
     ]
    }
   ],
   "source": [
    "X_train_bow = cv.fit_transform(X_train['content']).toarray()\n",
    "X_test_bow = cv.transform(X_test['content']).toarray()"
   ]
  },
  {
   "cell_type": "code",
   "execution_count": 25,
   "id": "98e12175",
   "metadata": {},
   "outputs": [
    {
     "data": {
      "text/plain": [
       "(18437, 47986)"
      ]
     },
     "execution_count": 25,
     "metadata": {},
     "output_type": "execute_result"
    }
   ],
   "source": [
    "X_train_bow.shape"
   ]
  },
  {
   "cell_type": "markdown",
   "id": "823592f4",
   "metadata": {},
   "source": [
    "# Fitting GNB"
   ]
  },
  {
   "cell_type": "code",
   "execution_count": 36,
   "id": "f937899f",
   "metadata": {},
   "outputs": [
    {
     "data": {
      "text/html": [
       "<style>#sk-container-id-1 {color: black;background-color: white;}#sk-container-id-1 pre{padding: 0;}#sk-container-id-1 div.sk-toggleable {background-color: white;}#sk-container-id-1 label.sk-toggleable__label {cursor: pointer;display: block;width: 100%;margin-bottom: 0;padding: 0.3em;box-sizing: border-box;text-align: center;}#sk-container-id-1 label.sk-toggleable__label-arrow:before {content: \"▸\";float: left;margin-right: 0.25em;color: #696969;}#sk-container-id-1 label.sk-toggleable__label-arrow:hover:before {color: black;}#sk-container-id-1 div.sk-estimator:hover label.sk-toggleable__label-arrow:before {color: black;}#sk-container-id-1 div.sk-toggleable__content {max-height: 0;max-width: 0;overflow: hidden;text-align: left;background-color: #f0f8ff;}#sk-container-id-1 div.sk-toggleable__content pre {margin: 0.2em;color: black;border-radius: 0.25em;background-color: #f0f8ff;}#sk-container-id-1 input.sk-toggleable__control:checked~div.sk-toggleable__content {max-height: 200px;max-width: 100%;overflow: auto;}#sk-container-id-1 input.sk-toggleable__control:checked~label.sk-toggleable__label-arrow:before {content: \"▾\";}#sk-container-id-1 div.sk-estimator input.sk-toggleable__control:checked~label.sk-toggleable__label {background-color: #d4ebff;}#sk-container-id-1 div.sk-label input.sk-toggleable__control:checked~label.sk-toggleable__label {background-color: #d4ebff;}#sk-container-id-1 input.sk-hidden--visually {border: 0;clip: rect(1px 1px 1px 1px);clip: rect(1px, 1px, 1px, 1px);height: 1px;margin: -1px;overflow: hidden;padding: 0;position: absolute;width: 1px;}#sk-container-id-1 div.sk-estimator {font-family: monospace;background-color: #f0f8ff;border: 1px dotted black;border-radius: 0.25em;box-sizing: border-box;margin-bottom: 0.5em;}#sk-container-id-1 div.sk-estimator:hover {background-color: #d4ebff;}#sk-container-id-1 div.sk-parallel-item::after {content: \"\";width: 100%;border-bottom: 1px solid gray;flex-grow: 1;}#sk-container-id-1 div.sk-label:hover label.sk-toggleable__label {background-color: #d4ebff;}#sk-container-id-1 div.sk-serial::before {content: \"\";position: absolute;border-left: 1px solid gray;box-sizing: border-box;top: 0;bottom: 0;left: 50%;z-index: 0;}#sk-container-id-1 div.sk-serial {display: flex;flex-direction: column;align-items: center;background-color: white;padding-right: 0.2em;padding-left: 0.2em;position: relative;}#sk-container-id-1 div.sk-item {position: relative;z-index: 1;}#sk-container-id-1 div.sk-parallel {display: flex;align-items: stretch;justify-content: center;background-color: white;position: relative;}#sk-container-id-1 div.sk-item::before, #sk-container-id-1 div.sk-parallel-item::before {content: \"\";position: absolute;border-left: 1px solid gray;box-sizing: border-box;top: 0;bottom: 0;left: 50%;z-index: -1;}#sk-container-id-1 div.sk-parallel-item {display: flex;flex-direction: column;z-index: 1;position: relative;background-color: white;}#sk-container-id-1 div.sk-parallel-item:first-child::after {align-self: flex-end;width: 50%;}#sk-container-id-1 div.sk-parallel-item:last-child::after {align-self: flex-start;width: 50%;}#sk-container-id-1 div.sk-parallel-item:only-child::after {width: 0;}#sk-container-id-1 div.sk-dashed-wrapped {border: 1px dashed gray;margin: 0 0.4em 0.5em 0.4em;box-sizing: border-box;padding-bottom: 0.4em;background-color: white;}#sk-container-id-1 div.sk-label label {font-family: monospace;font-weight: bold;display: inline-block;line-height: 1.2em;}#sk-container-id-1 div.sk-label-container {text-align: center;}#sk-container-id-1 div.sk-container {/* jupyter's `normalize.less` sets `[hidden] { display: none; }` but bootstrap.min.css set `[hidden] { display: none !important; }` so we also need the `!important` here to be able to override the default hidden behavior on the sphinx rendered scikit-learn.org. See: https://github.com/scikit-learn/scikit-learn/issues/21755 */display: inline-block !important;position: relative;}#sk-container-id-1 div.sk-text-repr-fallback {display: none;}</style><div id=\"sk-container-id-1\" class=\"sk-top-container\"><div class=\"sk-text-repr-fallback\"><pre>GaussianNB()</pre><b>In a Jupyter environment, please rerun this cell to show the HTML representation or trust the notebook. <br />On GitHub, the HTML representation is unable to render, please try loading this page with nbviewer.org.</b></div><div class=\"sk-container\" hidden><div class=\"sk-item\"><div class=\"sk-estimator sk-toggleable\"><input class=\"sk-toggleable__control sk-hidden--visually\" id=\"sk-estimator-id-1\" type=\"checkbox\" checked><label for=\"sk-estimator-id-1\" class=\"sk-toggleable__label sk-toggleable__label-arrow\">GaussianNB</label><div class=\"sk-toggleable__content\"><pre>GaussianNB()</pre></div></div></div></div></div>"
      ],
      "text/plain": [
       "GaussianNB()"
      ]
     },
     "execution_count": 36,
     "metadata": {},
     "output_type": "execute_result"
    }
   ],
   "source": [
    "from sklearn.naive_bayes import GaussianNB\n",
    "gnb = GaussianNB()\n",
    "\n",
    "gnb.fit(X_train_bow,y_train)"
   ]
  },
  {
   "cell_type": "code",
   "execution_count": 37,
   "id": "7164016f",
   "metadata": {},
   "outputs": [
    {
     "data": {
      "text/plain": [
       "0.9692982456140351"
      ]
     },
     "execution_count": 37,
     "metadata": {},
     "output_type": "execute_result"
    }
   ],
   "source": [
    "y_pred = gnb.predict(X_test_bow)\n",
    "\n",
    "from sklearn.metrics import accuracy_score,confusion_matrix\n",
    "accuracy_score(y_test,y_pred)"
   ]
  },
  {
   "cell_type": "markdown",
   "id": "69361de0",
   "metadata": {},
   "source": [
    "# Saving the model GNB"
   ]
  },
  {
   "cell_type": "code",
   "execution_count": 43,
   "id": "83586d26",
   "metadata": {},
   "outputs": [
    {
     "data": {
      "text/plain": [
       "['gaussianNB.joblib']"
      ]
     },
     "execution_count": 43,
     "metadata": {},
     "output_type": "execute_result"
    }
   ],
   "source": [
    "from joblib import dump,load\n",
    "\n",
    "#Save model to the file\n",
    "dump(gnb,filename=\"gaussianNB.joblib\")"
   ]
  },
  {
   "cell_type": "code",
   "execution_count": 38,
   "id": "65a01603",
   "metadata": {},
   "outputs": [
    {
     "data": {
      "text/plain": [
       "array([[1007,   23],\n",
       "       [  40,  982]], dtype=int64)"
      ]
     },
     "execution_count": 38,
     "metadata": {},
     "output_type": "execute_result"
    }
   ],
   "source": [
    "confusion_matrix(y_test,y_pred)"
   ]
  },
  {
   "cell_type": "markdown",
   "id": "5e490895",
   "metadata": {},
   "source": [
    "# Loading the model GNB"
   ]
  },
  {
   "cell_type": "code",
   "execution_count": 65,
   "id": "d3b302ac",
   "metadata": {},
   "outputs": [],
   "source": [
    "from joblib import load\n",
    "\n",
    "# Load the model\n",
    "gnb = load(\"gaussianNB.joblib\")"
   ]
  },
  {
   "cell_type": "markdown",
   "id": "de4c00b3",
   "metadata": {},
   "source": [
    "# Testing GNB"
   ]
  },
  {
   "cell_type": "code",
   "execution_count": 95,
   "id": "addb2f5a",
   "metadata": {},
   "outputs": [
    {
     "name": "stdout",
     "output_type": "stream",
     "text": [
      "Predicted Label: [1]\n"
     ]
    }
   ],
   "source": [
    "health_content = \"To alleviate headaches, try staying hydrated, resting in a quiet environment, managing stress, avoiding triggers like bright lights and loud noises, taking over-the-counter pain relievers as needed, applying heat or cold packs, gentle massage, keeping a headache diary to identify triggers, staying active with regular exercise, and seeking professional help if needed.\"\n",
    "\n",
    "# Preprocess the input health content (assuming you have a function for preprocessing)\n",
    "health_content = remove_punc(health_content)\n",
    "health_content = remove_stopwords(health_content)\n",
    "health_content.lower()\n",
    "# Transform the preprocessed content into a Bag-of-Words representation\n",
    "content_bow = cv.transform([health_content]).toarray()\n",
    "\n",
    "# Use the trained Gaussian Naive Bayes model to make predictions\n",
    "predicted_label = gnb.predict(content_bow)\n",
    "\n",
    "# Print the predicted label\n",
    "print(\"Predicted Label:\", predicted_label)"
   ]
  },
  {
   "cell_type": "markdown",
   "id": "7cc85f1b",
   "metadata": {},
   "source": [
    "# Classification report GNB"
   ]
  },
  {
   "cell_type": "code",
   "execution_count": 67,
   "id": "935d92b8",
   "metadata": {},
   "outputs": [
    {
     "name": "stdout",
     "output_type": "stream",
     "text": [
      "Classification Report:\n",
      "              precision    recall  f1-score   support\n",
      "\n",
      "           0       0.96      0.98      0.97      1030\n",
      "           1       0.98      0.96      0.97      1022\n",
      "\n",
      "    accuracy                           0.97      2052\n",
      "   macro avg       0.97      0.97      0.97      2052\n",
      "weighted avg       0.97      0.97      0.97      2052\n",
      "\n"
     ]
    }
   ],
   "source": [
    "from sklearn.metrics import classification_report\n",
    "y_pred = gnb.predict(X_test_bow)\n",
    "# Generate the classification report\n",
    "report = classification_report(y_test, y_pred)\n",
    "\n",
    "# Print the classification report\n",
    "print(\"Classification Report:\")\n",
    "print(report)\n"
   ]
  },
  {
   "cell_type": "markdown",
   "id": "0a8613e3",
   "metadata": {},
   "source": [
    "# Fitting RF"
   ]
  },
  {
   "cell_type": "code",
   "execution_count": 27,
   "id": "6676b0e0",
   "metadata": {},
   "outputs": [
    {
     "data": {
      "text/plain": [
       "0.9917570498915401"
      ]
     },
     "execution_count": 27,
     "metadata": {},
     "output_type": "execute_result"
    }
   ],
   "source": [
    "from sklearn.ensemble import RandomForestClassifier\n",
    "rf = RandomForestClassifier()\n",
    "\n",
    "rf.fit(X_train_bow,y_train)\n",
    "y_pred = rf.predict(X_test_bow)\n",
    "accuracy_score(y_test,y_pred)"
   ]
  },
  {
   "cell_type": "markdown",
   "id": "95bd0c34",
   "metadata": {},
   "source": [
    "# Loading the model RF"
   ]
  },
  {
   "cell_type": "code",
   "execution_count": 44,
   "id": "4b1920c7",
   "metadata": {},
   "outputs": [],
   "source": [
    "import pickle\n",
    "\n",
    "# Load the model\n",
    "file = open(\"randomForestBoW\",'rb')\n",
    "rf = pickle.load(file)"
   ]
  },
  {
   "cell_type": "markdown",
   "id": "64446ed9",
   "metadata": {},
   "source": [
    "# Testing model RF"
   ]
  },
  {
   "cell_type": "code",
   "execution_count": 49,
   "id": "d34bf4cd",
   "metadata": {},
   "outputs": [
    {
     "name": "stdout",
     "output_type": "stream",
     "text": [
      "Predicted Label: [0]\n"
     ]
    }
   ],
   "source": [
    "health_content = \"Globally, corona virus (COVID19) pandemic has become the most significant crisis to challenge the health, economy and the wellbeing of the humans affecting nearly all the countries.\"\n",
    "\n",
    "# Preprocess the input health content (assuming you have a function for preprocessing)\n",
    "health_content = remove_punc(health_content)\n",
    "health_content = remove_stopwords(health_content)\n",
    "health_content.lower()\n",
    "# Transform the preprocessed content into a Bag-of-Words representation\n",
    "content_bow = cv.transform([health_content]).toarray()\n",
    "\n",
    "# Use the trained Gaussian Naive Bayes model to make predictions\n",
    "predicted_label = rf.predict(content_bow)\n",
    "\n",
    "# Print the predicted label\n",
    "print(\"Predicted Label:\", predicted_label)"
   ]
  },
  {
   "cell_type": "markdown",
   "id": "e877bcf7",
   "metadata": {},
   "source": [
    "# Saving model RF"
   ]
  },
  {
   "cell_type": "code",
   "execution_count": 29,
   "id": "f9ca5c5a",
   "metadata": {},
   "outputs": [],
   "source": [
    "import pickle\n",
    "pickle.dump(rf,open('randomForestBoW','wb'))"
   ]
  },
  {
   "cell_type": "markdown",
   "id": "c36e5819",
   "metadata": {},
   "source": [
    "# Classification report for RF"
   ]
  },
  {
   "cell_type": "code",
   "execution_count": 45,
   "id": "ab8121d7",
   "metadata": {},
   "outputs": [
    {
     "ename": "NameError",
     "evalue": "name 'X_test_bow' is not defined",
     "output_type": "error",
     "traceback": [
      "\u001b[1;31m---------------------------------------------------------------------------\u001b[0m",
      "\u001b[1;31mNameError\u001b[0m                                 Traceback (most recent call last)",
      "Cell \u001b[1;32mIn[45], line 1\u001b[0m\n\u001b[1;32m----> 1\u001b[0m y_pred \u001b[38;5;241m=\u001b[39m rf\u001b[38;5;241m.\u001b[39mpredict(\u001b[43mX_test_bow\u001b[49m)\n\u001b[0;32m      2\u001b[0m \u001b[38;5;66;03m# Generate the classification report\u001b[39;00m\n\u001b[0;32m      3\u001b[0m report \u001b[38;5;241m=\u001b[39m classification_report(y_test, y_pred)\n",
      "\u001b[1;31mNameError\u001b[0m: name 'X_test_bow' is not defined"
     ]
    }
   ],
   "source": [
    "y_pred = rf.predict(X_test_bow)\n",
    "# Generate the classification report\n",
    "report = classification_report(y_test, y_pred)\n",
    "\n",
    "# Print the classification report\n",
    "print(\"Classification Report:\")\n",
    "print(report)\n"
   ]
  },
  {
   "cell_type": "markdown",
   "id": "b767b975",
   "metadata": {},
   "source": [
    "# Recall, percision, F1-Score"
   ]
  },
  {
   "cell_type": "code",
   "execution_count": null,
   "id": "bc6b21f5",
   "metadata": {},
   "outputs": [],
   "source": [
    "from sklearn.metrics import (\n",
    "    precision_score,\n",
    "    recall_score,\n",
    "    f1_score\n",
    ")\n",
    "\n",
    "precision = precision_score(y_test, y_pred)\n",
    "recall = recall_score(y_test, y_pred)\n",
    "f1score = f1_score(y_test, y_pred)\n",
    " \n",
    "print(f\"Precision = {precision.round(4)}\")\n",
    "print(f\"Recall = {recall.round(4)}\")\n",
    "print(f\"F1 Score = {f1score.round(4)}\")"
   ]
  },
  {
   "cell_type": "markdown",
   "id": "c2677ea4",
   "metadata": {},
   "source": [
    "# Confusion Matrix"
   ]
  },
  {
   "cell_type": "code",
   "execution_count": 50,
   "id": "448da6e4",
   "metadata": {},
   "outputs": [
    {
     "data": {
      "text/plain": [
       "array([[2259,   11],\n",
       "       [  27, 2313]], dtype=int64)"
      ]
     },
     "execution_count": 50,
     "metadata": {},
     "output_type": "execute_result"
    }
   ],
   "source": [
    "confusion_matrix(y_test,y_pred)"
   ]
  },
  {
   "cell_type": "markdown",
   "id": "55f10527",
   "metadata": {},
   "source": [
    "# Fitting Multinomial Naive Bayes "
   ]
  },
  {
   "cell_type": "code",
   "execution_count": 73,
   "id": "662da1da",
   "metadata": {},
   "outputs": [
    {
     "data": {
      "text/plain": [
       "0.9897660818713451"
      ]
     },
     "execution_count": 73,
     "metadata": {},
     "output_type": "execute_result"
    }
   ],
   "source": [
    "# Fitting Multinomial Naive Bayes \n",
    "from sklearn.naive_bayes import MultinomialNB\n",
    "mnb_clf = MultinomialNB()\n",
    "mnb_clf.fit(X_train_bow,y_train)\n",
    "y_pred = mnb_clf.predict(X_test_bow)\n",
    "accuracy_score(y_test,y_pred)\n"
   ]
  },
  {
   "cell_type": "markdown",
   "id": "78e22e3e",
   "metadata": {},
   "source": [
    "# Classification report MNB"
   ]
  },
  {
   "cell_type": "code",
   "execution_count": 74,
   "id": "37eee911",
   "metadata": {},
   "outputs": [
    {
     "name": "stdout",
     "output_type": "stream",
     "text": [
      "Classification Report:\n",
      "              precision    recall  f1-score   support\n",
      "\n",
      "           0       0.98      1.00      0.99      1030\n",
      "           1       1.00      0.98      0.99      1022\n",
      "\n",
      "    accuracy                           0.99      2052\n",
      "   macro avg       0.99      0.99      0.99      2052\n",
      "weighted avg       0.99      0.99      0.99      2052\n",
      "\n"
     ]
    }
   ],
   "source": [
    "from sklearn.metrics import classification_report\n",
    "# Generate the classification report\n",
    "report = classification_report(y_test, y_pred)\n",
    "\n",
    "# Print the classification report\n",
    "print(\"Classification Report:\")\n",
    "print(report)\n"
   ]
  },
  {
   "cell_type": "markdown",
   "id": "ebe76c5c",
   "metadata": {},
   "source": [
    "# Saving the model MNB"
   ]
  },
  {
   "cell_type": "code",
   "execution_count": 76,
   "id": "c18255d4",
   "metadata": {},
   "outputs": [
    {
     "data": {
      "text/plain": [
       "['maivebayes.joblib']"
      ]
     },
     "execution_count": 76,
     "metadata": {},
     "output_type": "execute_result"
    }
   ],
   "source": [
    "from joblib import dump\n",
    "dump(mnb_clf,filename=\"maivebayes.joblib\")"
   ]
  },
  {
   "cell_type": "markdown",
   "id": "0925ba5c",
   "metadata": {},
   "source": [
    "# Confusion matrix"
   ]
  },
  {
   "cell_type": "code",
   "execution_count": 77,
   "id": "459c343e",
   "metadata": {},
   "outputs": [
    {
     "data": {
      "text/plain": [
       "array([[1026,    4],\n",
       "       [  17, 1005]], dtype=int64)"
      ]
     },
     "execution_count": 77,
     "metadata": {},
     "output_type": "execute_result"
    }
   ],
   "source": [
    "confusion_matrix(y_test,y_pred)"
   ]
  },
  {
   "cell_type": "markdown",
   "id": "3b494255",
   "metadata": {},
   "source": [
    "# Testing MNB"
   ]
  },
  {
   "cell_type": "code",
   "execution_count": 93,
   "id": "edfec77e",
   "metadata": {},
   "outputs": [
    {
     "name": "stdout",
     "output_type": "stream",
     "text": [
      "Predicted Label: [1]\n"
     ]
    }
   ],
   "source": [
    "health_content = \"To alleviate headaches, try staying hydrated, resting in a quiet environment, managing stress, avoiding triggers like bright lights and loud noises, taking over-the-counter pain relievers as needed, applying heat or cold packs, gentle massage, keeping a headache diary to identify triggers, staying active with regular exercise, and seeking professional help if needed.\"\n",
    "# Preprocess the input health content (assuming you have a function for preprocessing)\n",
    "health_content = remove_punc(health_content)\n",
    "health_content = remove_stopwords(health_content)\n",
    "health_content.lower()\n",
    "# Transform the preprocessed content into a Bag-of-Words representation\n",
    "content_bow = cv.transform([health_content]).toarray()\n",
    "\n",
    "# Use the trained Gaussian Naive Bayes model to make predictions\n",
    "predicted_label = mnb_clf.predict(content_bow)\n",
    "\n",
    "# Print the predicted label\n",
    "print(\"Predicted Label:\", predicted_label)"
   ]
  },
  {
   "cell_type": "markdown",
   "id": "55eb3c01",
   "metadata": {},
   "source": [
    "## Using TfIdf RF"
   ]
  },
  {
   "cell_type": "code",
   "execution_count": 22,
   "id": "d5958aa1",
   "metadata": {},
   "outputs": [],
   "source": [
    "from sklearn.feature_extraction.text import TfidfVectorizer"
   ]
  },
  {
   "cell_type": "code",
   "execution_count": 23,
   "id": "d959bb0e",
   "metadata": {},
   "outputs": [],
   "source": [
    "tfidf = TfidfVectorizer()"
   ]
  },
  {
   "cell_type": "code",
   "execution_count": 24,
   "id": "6b1dad3b",
   "metadata": {},
   "outputs": [],
   "source": [
    "X_train_tfidf = tfidf.fit_transform(X_train['content']).toarray()\n",
    "X_test_tfidf = tfidf.transform(X_test['content'])"
   ]
  },
  {
   "cell_type": "code",
   "execution_count": 25,
   "id": "5db7959a",
   "metadata": {},
   "outputs": [],
   "source": [
    "from sklearn.ensemble import RandomForestClassifier\n",
    "rf = RandomForestClassifier()\n",
    "\n",
    "rf.fit(X_train_tfidf,y_train)\n",
    "y_pred = rf.predict(X_test_tfidf)\n"
   ]
  },
  {
   "cell_type": "code",
   "execution_count": 26,
   "id": "693936d0",
   "metadata": {},
   "outputs": [
    {
     "data": {
      "text/plain": [
       "0.9950108459869849"
      ]
     },
     "execution_count": 26,
     "metadata": {},
     "output_type": "execute_result"
    }
   ],
   "source": [
    "from sklearn.metrics import accuracy_score\n",
    "accuracy_score(y_test,y_pred)"
   ]
  },
  {
   "cell_type": "markdown",
   "id": "0861aa77",
   "metadata": {},
   "source": [
    "# Saving the RF model"
   ]
  },
  {
   "cell_type": "code",
   "execution_count": 27,
   "id": "e3169bab",
   "metadata": {},
   "outputs": [],
   "source": [
    "import pickle\n",
    "pickle.dump(rf,open('randomForestTFIDF','wb'))"
   ]
  },
  {
   "cell_type": "markdown",
   "id": "063dfc41",
   "metadata": {},
   "source": [
    "# Classification report RF"
   ]
  },
  {
   "cell_type": "code",
   "execution_count": 28,
   "id": "2da83296",
   "metadata": {},
   "outputs": [
    {
     "name": "stdout",
     "output_type": "stream",
     "text": [
      "Classification Report:\n",
      "              precision    recall  f1-score   support\n",
      "\n",
      "           0       0.99      1.00      0.99      2270\n",
      "           1       1.00      0.99      1.00      2340\n",
      "\n",
      "    accuracy                           1.00      4610\n",
      "   macro avg       0.99      1.00      1.00      4610\n",
      "weighted avg       1.00      1.00      1.00      4610\n",
      "\n"
     ]
    }
   ],
   "source": [
    "from sklearn.metrics import classification_report\n",
    "# Generate the classification report\n",
    "report = classification_report(y_test, y_pred)\n",
    "\n",
    "# Print the classification report\n",
    "print(\"Classification Report:\")\n",
    "print(report)"
   ]
  },
  {
   "cell_type": "markdown",
   "id": "4c8fe80e",
   "metadata": {},
   "source": [
    "# Recall, precision, F1-score"
   ]
  },
  {
   "cell_type": "code",
   "execution_count": 30,
   "id": "8936c091",
   "metadata": {},
   "outputs": [
    {
     "name": "stdout",
     "output_type": "stream",
     "text": [
      "Precision = 0.9966\n",
      "Recall = 0.9936\n",
      "F1 Score = 0.9951\n"
     ]
    }
   ],
   "source": [
    "from sklearn.metrics import (\n",
    "    precision_score,\n",
    "    recall_score,\n",
    "    f1_score\n",
    ")\n",
    "\n",
    "precision = precision_score(y_test, y_pred)\n",
    "recall = recall_score(y_test, y_pred)\n",
    "f1score = f1_score(y_test, y_pred)\n",
    " \n",
    "print(f\"Precision = {precision.round(4)}\")\n",
    "print(f\"Recall = {recall.round(4)}\")\n",
    "print(f\"F1 Score = {f1score.round(4)}\")"
   ]
  },
  {
   "cell_type": "markdown",
   "id": "2785a9ef",
   "metadata": {},
   "source": [
    "# Load RF-TFIDF model"
   ]
  },
  {
   "cell_type": "code",
   "execution_count": 46,
   "id": "39dc39ee",
   "metadata": {},
   "outputs": [],
   "source": [
    "from joblib import load\n",
    "\n",
    "# Load the model\n",
    "rf_tdif = load(\"randomForestTFIDF.joblib\")"
   ]
  },
  {
   "cell_type": "markdown",
   "id": "70e42cc4",
   "metadata": {},
   "source": [
    "# Conf Matrix"
   ]
  },
  {
   "cell_type": "code",
   "execution_count": 31,
   "id": "80dcfc8f",
   "metadata": {},
   "outputs": [
    {
     "data": {
      "text/plain": [
       "array([[2262,    8],\n",
       "       [  15, 2325]], dtype=int64)"
      ]
     },
     "execution_count": 31,
     "metadata": {},
     "output_type": "execute_result"
    }
   ],
   "source": [
    "confusion_matrix(y_test,y_pred)"
   ]
  },
  {
   "cell_type": "markdown",
   "id": "aed0207c",
   "metadata": {},
   "source": [
    "# Testing RF"
   ]
  },
  {
   "cell_type": "code",
   "execution_count": 41,
   "id": "0970aa6f",
   "metadata": {},
   "outputs": [
    {
     "name": "stdout",
     "output_type": "stream",
     "text": [
      "Predicted Label: [1]\n"
     ]
    }
   ],
   "source": [
    "health_content ='''If you are concerned about a fever, especially a high fever (over 103°F for adults or 100.4°F foThere is no cure for the common cold or flu, but there are ways to manage the symptoms and feel better while your body recovers. Here's the gist:\n",
    "Get plenty of rest.\n",
    "Stay hydrated with fluids like water, broth, or tea.\n",
    "Over-the-counter medications can help with specific symptoms like congestion, fever, or sore throat.\n",
    "Home remedies like salt water gargles, a humidifier, or warm compresses may offer relief.\n",
    "If your symptoms are severe or don't improve, consult a doctor.r infants and toddlers), or if it is accompanied by other concerning symptoms,  it is best to see a doctor.'''\n",
    "# Preprocess the input health content (assuming you have a function for preprocessing)\n",
    "health_content = remove_punc(health_content)\n",
    "health_content = remove_stopwords(health_content)\n",
    "health_content.lower()\n",
    "# Transform the preprocessed content into a Bag-of-Words representation\n",
    "content_bow = tfidf.transform([health_content]).toarray()\n",
    "\n",
    "# Use the trained Gaussian Naive Bayes model to make predictions\n",
    "predicted_label = rf.predict(content_bow)\n",
    "\n",
    "# Print the predicted label\n",
    "print(\"Predicted Label:\", predicted_label)"
   ]
  }
 ],
 "metadata": {
  "kernelspec": {
   "display_name": "Python 3",
   "language": "python",
   "name": "python3"
  },
  "language_info": {
   "codemirror_mode": {
    "name": "ipython",
    "version": 3
   },
   "file_extension": ".py",
   "mimetype": "text/x-python",
   "name": "python",
   "nbconvert_exporter": "python",
   "pygments_lexer": "ipython3",
   "version": "3.10.5"
  }
 },
 "nbformat": 4,
 "nbformat_minor": 5
}
