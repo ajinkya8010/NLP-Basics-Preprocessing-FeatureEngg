{
  "cells": [
    {
      "cell_type": "code",
      "execution_count": 1,
      "metadata": {
        "id": "I6T_5ubcd3t3"
      },
      "outputs": [
        {
          "name": "stderr",
          "output_type": "stream",
          "text": [
            "WARNING: Ignoring invalid distribution -ensorflow-intel (c:\\users\\ajinkya\\appdata\\local\\programs\\python\\python310\\lib\\site-packages)\n",
            "WARNING: Ignoring invalid distribution -illow (c:\\users\\ajinkya\\appdata\\local\\programs\\python\\python310\\lib\\site-packages)\n",
            "WARNING: Ignoring invalid distribution -rotobuf (c:\\users\\ajinkya\\appdata\\local\\programs\\python\\python310\\lib\\site-packages)\n",
            "WARNING: Ignoring invalid distribution -ensorflow-intel (c:\\users\\ajinkya\\appdata\\local\\programs\\python\\python310\\lib\\site-packages)\n",
            "WARNING: Ignoring invalid distribution -illow (c:\\users\\ajinkya\\appdata\\local\\programs\\python\\python310\\lib\\site-packages)\n",
            "WARNING: Ignoring invalid distribution -rotobuf (c:\\users\\ajinkya\\appdata\\local\\programs\\python\\python310\\lib\\site-packages)\n",
            "WARNING: Ignoring invalid distribution -ensorflow-intel (c:\\users\\ajinkya\\appdata\\local\\programs\\python\\python310\\lib\\site-packages)\n",
            "WARNING: Ignoring invalid distribution -illow (c:\\users\\ajinkya\\appdata\\local\\programs\\python\\python310\\lib\\site-packages)\n",
            "WARNING: Ignoring invalid distribution -rotobuf (c:\\users\\ajinkya\\appdata\\local\\programs\\python\\python310\\lib\\site-packages)\n",
            "WARNING: Ignoring invalid distribution -ensorflow-intel (c:\\users\\ajinkya\\appdata\\local\\programs\\python\\python310\\lib\\site-packages)\n",
            "WARNING: Ignoring invalid distribution -illow (c:\\users\\ajinkya\\appdata\\local\\programs\\python\\python310\\lib\\site-packages)\n",
            "WARNING: Ignoring invalid distribution -rotobuf (c:\\users\\ajinkya\\appdata\\local\\programs\\python\\python310\\lib\\site-packages)\n"
          ]
        }
      ],
      "source": [
        "!pip install --upgrade gensim -q\n",
        "!pip install matplotlib -q"
      ]
    },
    {
      "cell_type": "code",
      "execution_count": 1,
      "metadata": {
        "id": "9XaQFwH6d3uF",
        "scrolled": true
      },
      "outputs": [],
      "source": [
        "import gensim\n",
        "from gensim.models import word2vec\n",
        "from gensim.models.word2vec import Word2Vec\n",
        "import numpy as np\n",
        "import matplotlib.pyplot as plt\n",
        "import pandas as pd\n",
        "import spacy\n",
        "import string"
      ]
    },
    {
      "cell_type": "code",
      "execution_count": 2,
      "metadata": {
        "colab": {
          "base_uri": "https://localhost:8080/",
          "height": 35
        },
        "id": "Ar_X4gP6IhSk",
        "outputId": "62852788-88cc-47ec-9c2d-9f0df27dc3cf"
      },
      "outputs": [
        {
          "data": {
            "text/plain": [
              "'4.3.2'"
            ]
          },
          "execution_count": 2,
          "metadata": {},
          "output_type": "execute_result"
        }
      ],
      "source": [
        "gensim.__version__"
      ]
    },
    {
      "cell_type": "code",
      "execution_count": 3,
      "metadata": {
        "id": "a98GdugAAH35"
      },
      "outputs": [],
      "source": [
        "np.random.seed(42)"
      ]
    },
    {
      "cell_type": "code",
      "execution_count": null,
      "metadata": {
        "id": "Iul5f_doNzHC"
      },
      "outputs": [],
      "source": [
        "# from google.colab import drive\n",
        "# drive.mount('/content/drive')"
      ]
    },
    {
      "cell_type": "markdown",
      "metadata": {
        "id": "gW_0s2ZQQtDB"
      },
      "source": [
        "Use Pretrained Word Vectors"
      ]
    },
    {
      "cell_type": "code",
      "execution_count": 6,
      "metadata": {
        "colab": {
          "base_uri": "https://localhost:8080/"
        },
        "id": "4Yt8fZ6pQp4j",
        "outputId": "542ca7c5-bf3a-448d-df4f-bcbf3a2773dc"
      },
      "outputs": [
        {
          "name": "stdout",
          "output_type": "stream",
          "text": [
            "['fasttext-wiki-news-subwords-300', 'conceptnet-numberbatch-17-06-300', 'word2vec-ruscorpora-300', 'word2vec-google-news-300', 'glove-wiki-gigaword-50', 'glove-wiki-gigaword-100', 'glove-wiki-gigaword-200', 'glove-wiki-gigaword-300', 'glove-twitter-25', 'glove-twitter-50', 'glove-twitter-100', 'glove-twitter-200', '__testing_word2vec-matrix-synopsis']\n"
          ]
        }
      ],
      "source": [
        "import gensim.downloader as api\n",
        "print(list(gensim.downloader.info()['models'].keys()))"
      ]
    },
    {
      "cell_type": "code",
      "execution_count": 7,
      "metadata": {
        "id": "u8_e1FlsOxUA"
      },
      "outputs": [
        {
          "name": "stdout",
          "output_type": "stream",
          "text": [
            "[==================================================] 100.0% 1662.8/1662.8MB downloaded\n"
          ]
        }
      ],
      "source": [
        "wv = api.load('word2vec-google-news-300')"
      ]
    },
    {
      "cell_type": "code",
      "execution_count": 8,
      "metadata": {
        "colab": {
          "base_uri": "https://localhost:8080/"
        },
        "id": "3UT0rA32iHFd",
        "outputId": "780e0b4d-723c-41e6-dd06-6c7fc6857ee0"
      },
      "outputs": [
        {
          "data": {
            "text/plain": [
              "gensim.models.keyedvectors.KeyedVectors"
            ]
          },
          "execution_count": 8,
          "metadata": {},
          "output_type": "execute_result"
        }
      ],
      "source": [
        "type(wv)"
      ]
    },
    {
      "cell_type": "code",
      "execution_count": 9,
      "metadata": {
        "id": "-_yq3wTaQzSO"
      },
      "outputs": [],
      "source": [
        "# wv = api.load('word2vec-google-news-300')\n",
        "wv.save('vectors.kv')"
      ]
    },
    {
      "cell_type": "code",
      "execution_count": 10,
      "metadata": {
        "colab": {
          "base_uri": "https://localhost:8080/"
        },
        "id": "gZObUSlhH1Mt",
        "outputId": "9754a1f8-c1c7-4d6b-da8b-aab93b5bd090"
      },
      "outputs": [
        {
          "data": {
            "text/plain": [
              "array([-0.06445312, -0.16015625, -0.01208496,  0.13476562, -0.22949219,\n",
              "        0.16210938,  0.3046875 , -0.1796875 , -0.12109375,  0.25390625,\n",
              "       -0.01428223, -0.06396484, -0.08056641, -0.05688477, -0.19628906,\n",
              "        0.2890625 , -0.05151367,  0.14257812, -0.10498047, -0.04736328,\n",
              "       -0.34765625,  0.35742188,  0.265625  ,  0.00188446, -0.01586914,\n",
              "        0.00195312, -0.35546875,  0.22167969,  0.05761719,  0.15917969,\n",
              "        0.08691406, -0.0267334 , -0.04785156,  0.23925781, -0.05981445,\n",
              "        0.0378418 ,  0.17382812, -0.41796875,  0.2890625 ,  0.32617188,\n",
              "        0.02429199, -0.01647949, -0.06494141, -0.08886719,  0.07666016,\n",
              "       -0.15136719,  0.05249023, -0.04199219, -0.05419922,  0.00108337,\n",
              "       -0.20117188,  0.12304688,  0.09228516,  0.10449219, -0.00408936,\n",
              "       -0.04199219,  0.01409912, -0.02111816, -0.13476562, -0.24316406,\n",
              "        0.16015625, -0.06689453, -0.08984375, -0.07177734, -0.00595093,\n",
              "       -0.00482178, -0.00089264, -0.30664062, -0.0625    ,  0.07958984,\n",
              "       -0.00909424, -0.04492188,  0.09960938, -0.33398438, -0.3984375 ,\n",
              "        0.05541992, -0.06689453, -0.04467773,  0.11767578, -0.13964844,\n",
              "       -0.26367188,  0.17480469, -0.17382812, -0.40625   , -0.06738281,\n",
              "       -0.07617188,  0.09423828,  0.20996094, -0.16308594, -0.08691406,\n",
              "       -0.0534668 , -0.10351562, -0.07617188, -0.11083984, -0.03515625,\n",
              "       -0.14941406,  0.0378418 ,  0.38671875,  0.14160156, -0.2890625 ,\n",
              "       -0.16894531, -0.140625  , -0.04174805,  0.22753906,  0.24023438,\n",
              "       -0.01599121, -0.06787109,  0.21875   , -0.42382812, -0.5625    ,\n",
              "       -0.49414062, -0.3359375 ,  0.13378906,  0.01141357,  0.13671875,\n",
              "        0.0324707 ,  0.06835938, -0.27539062, -0.15917969,  0.00121307,\n",
              "        0.01208496, -0.0039978 ,  0.00442505, -0.04541016,  0.08642578,\n",
              "        0.09960938, -0.04296875, -0.11328125,  0.13867188,  0.41796875,\n",
              "       -0.28320312, -0.07373047, -0.11425781,  0.08691406, -0.02148438,\n",
              "        0.328125  , -0.07373047, -0.01348877,  0.17773438, -0.02624512,\n",
              "        0.13378906, -0.11132812, -0.12792969, -0.12792969,  0.18945312,\n",
              "       -0.13867188,  0.29882812, -0.07714844, -0.37695312, -0.10351562,\n",
              "        0.16992188, -0.10742188, -0.29882812,  0.00866699, -0.27734375,\n",
              "       -0.20996094, -0.1796875 , -0.19628906, -0.22167969,  0.08886719,\n",
              "       -0.27734375, -0.13964844,  0.15917969,  0.03637695,  0.03320312,\n",
              "       -0.08105469,  0.25390625, -0.08691406, -0.21289062, -0.18945312,\n",
              "       -0.22363281,  0.06542969, -0.16601562,  0.08837891, -0.359375  ,\n",
              "       -0.09863281,  0.35546875, -0.00741577,  0.19042969,  0.16992188,\n",
              "       -0.06005859, -0.20605469,  0.08105469,  0.12988281, -0.01135254,\n",
              "        0.33203125, -0.08691406,  0.27539062, -0.03271484,  0.12011719,\n",
              "       -0.0625    ,  0.1953125 , -0.10986328, -0.11767578,  0.20996094,\n",
              "        0.19921875,  0.02954102, -0.16015625,  0.00276184, -0.01367188,\n",
              "        0.03442383, -0.19335938,  0.00352478, -0.06542969, -0.05566406,\n",
              "        0.09423828,  0.29296875,  0.04052734, -0.09326172, -0.10107422,\n",
              "       -0.27539062,  0.04394531, -0.07275391,  0.13867188,  0.02380371,\n",
              "        0.13085938,  0.00236511, -0.2265625 ,  0.34765625,  0.13574219,\n",
              "        0.05224609,  0.18164062,  0.0402832 ,  0.23730469, -0.16992188,\n",
              "        0.10058594,  0.03833008,  0.10839844, -0.05615234, -0.00946045,\n",
              "        0.14550781, -0.30078125, -0.32226562,  0.18847656, -0.40234375,\n",
              "       -0.3125    , -0.08007812, -0.26757812,  0.16699219,  0.07324219,\n",
              "        0.06347656,  0.06591797,  0.17285156, -0.17773438,  0.00276184,\n",
              "       -0.05761719, -0.2265625 , -0.19628906,  0.09667969,  0.13769531,\n",
              "       -0.49414062, -0.27929688,  0.12304688, -0.30078125,  0.01293945,\n",
              "       -0.1875    , -0.20898438, -0.1796875 , -0.16015625, -0.03295898,\n",
              "        0.00976562,  0.25390625, -0.25195312,  0.00210571,  0.04296875,\n",
              "        0.01184082, -0.20605469,  0.24804688, -0.203125  , -0.17773438,\n",
              "        0.07275391,  0.04541016,  0.21679688, -0.2109375 ,  0.14550781,\n",
              "       -0.16210938,  0.20410156, -0.19628906, -0.35742188,  0.35742188,\n",
              "       -0.11962891,  0.35742188,  0.10351562,  0.07080078, -0.24707031,\n",
              "       -0.10449219, -0.19238281,  0.1484375 ,  0.00057983,  0.296875  ,\n",
              "       -0.12695312, -0.03979492,  0.13183594, -0.16601562,  0.125     ,\n",
              "        0.05126953, -0.14941406,  0.13671875, -0.02075195,  0.34375   ],\n",
              "      dtype=float32)"
            ]
          },
          "execution_count": 10,
          "metadata": {},
          "output_type": "execute_result"
        }
      ],
      "source": [
        "wv['apple']"
      ]
    },
    {
      "cell_type": "code",
      "execution_count": 11,
      "metadata": {
        "colab": {
          "base_uri": "https://localhost:8080/"
        },
        "id": "9mk6KkNvH644",
        "outputId": "bee36c8a-2ac4-4656-e3cd-20792e70943c"
      },
      "outputs": [
        {
          "data": {
            "text/plain": [
              "300"
            ]
          },
          "execution_count": 11,
          "metadata": {},
          "output_type": "execute_result"
        }
      ],
      "source": [
        "len(wv['apple'])"
      ]
    },
    {
      "cell_type": "code",
      "execution_count": 4,
      "metadata": {
        "id": "yj3MKu9xOMEl"
      },
      "outputs": [],
      "source": [
        "from gensim.models import KeyedVectors\n",
        "wv = KeyedVectors.load('vectors.kv')"
      ]
    },
    {
      "cell_type": "code",
      "execution_count": 5,
      "metadata": {
        "colab": {
          "base_uri": "https://localhost:8080/"
        },
        "id": "ERMiTXcrI2Du",
        "outputId": "b953cf24-4cec-4f3a-9a38-6d00c1158a57"
      },
      "outputs": [
        {
          "data": {
            "text/plain": [
              "0.57518554"
            ]
          },
          "execution_count": 5,
          "metadata": {},
          "output_type": "execute_result"
        }
      ],
      "source": [
        "wv.similarity(\"apple\", \"mango\")"
      ]
    },
    {
      "cell_type": "code",
      "execution_count": 6,
      "metadata": {
        "colab": {
          "base_uri": "https://localhost:8080/"
        },
        "id": "56TLg3ygJKwB",
        "outputId": "617c654f-feaf-46df-f68a-2d1653ada6bc"
      },
      "outputs": [
        {
          "data": {
            "text/plain": [
              "0.12830707"
            ]
          },
          "execution_count": 6,
          "metadata": {},
          "output_type": "execute_result"
        }
      ],
      "source": [
        "wv.similarity(\"apple\", \"car\")"
      ]
    },
    {
      "cell_type": "code",
      "execution_count": 7,
      "metadata": {
        "colab": {
          "base_uri": "https://localhost:8080/"
        },
        "id": "b1MxV_x3fEPm",
        "outputId": "816f1e83-b76e-4d85-9301-1393a15b3552"
      },
      "outputs": [
        {
          "name": "stdout",
          "output_type": "stream",
          "text": [
            "'car'\t'minivan'\t0.69\n",
            "'car'\t'bicycle'\t0.54\n",
            "'car'\t'airplane'\t0.42\n",
            "'car'\t'cereal'\t0.14\n",
            "'car'\t'communism'\t0.06\n"
          ]
        }
      ],
      "source": [
        "pairs = [\n",
        "    ('car', 'minivan'),   # a minivan is a kind of car\n",
        "    ('car', 'bicycle'),   # still a wheeled vehicle\n",
        "    ('car', 'airplane'),  # ok, no wheels, but still a vehicle\n",
        "    ('car', 'cereal'),    # ... and so on\n",
        "    ('car', 'communism'),\n",
        "]\n",
        "for w1, w2 in pairs:\n",
        "    print('%r\\t%r\\t%.2f' % (w1, w2, wv.similarity(w1, w2)))"
      ]
    },
    {
      "cell_type": "code",
      "execution_count": 8,
      "metadata": {
        "colab": {
          "base_uri": "https://localhost:8080/"
        },
        "id": "af8Fjp0TfOFl",
        "outputId": "680b9b7e-455a-41aa-cf70-d967824849d2"
      },
      "outputs": [
        {
          "name": "stdout",
          "output_type": "stream",
          "text": [
            "[('SUV', 0.8532192707061768), ('vehicle', 0.8175783753395081), ('pickup_truck', 0.7763688564300537), ('Jeep', 0.7567334175109863), ('Ford_Explorer', 0.7565720081329346)]\n"
          ]
        }
      ],
      "source": [
        "print(wv.most_similar(positive=['car', 'minivan'], topn=5))"
      ]
    },
    {
      "cell_type": "code",
      "execution_count": 9,
      "metadata": {
        "colab": {
          "base_uri": "https://localhost:8080/"
        },
        "id": "QykE5BjrfVoG",
        "outputId": "0356b015-0610-4983-a3f1-5967d8a73931"
      },
      "outputs": [
        {
          "name": "stdout",
          "output_type": "stream",
          "text": [
            "car\n"
          ]
        }
      ],
      "source": [
        "print(wv.doesnt_match(['fire', 'water', 'land', 'sea', 'air', 'car']))"
      ]
    },
    {
      "cell_type": "markdown",
      "metadata": {
        "id": "ZKbj-Rj0d3uw"
      },
      "source": [
        "#### Semantic regularities captured in word embeddings"
      ]
    },
    {
      "cell_type": "code",
      "execution_count": 10,
      "metadata": {
        "colab": {
          "base_uri": "https://localhost:8080/"
        },
        "id": "CioPg8xtd3uw",
        "outputId": "86439147-6ef1-442b-db04-6d8d5bfd042a"
      },
      "outputs": [
        {
          "data": {
            "text/plain": [
              "[('queen', 0.7118193507194519),\n",
              " ('monarch', 0.6189674139022827),\n",
              " ('princess', 0.5902431011199951)]"
            ]
          },
          "execution_count": 10,
          "metadata": {},
          "output_type": "execute_result"
        }
      ],
      "source": [
        "wv.most_similar(positive=['woman', 'king'], negative=['man'], topn=3)"
      ]
    },
    {
      "cell_type": "code",
      "execution_count": 11,
      "metadata": {
        "colab": {
          "base_uri": "https://localhost:8080/"
        },
        "id": "-mZtVMO1MgIQ",
        "outputId": "4956c8f5-610c-4180-d434-242ebdf45f45"
      },
      "outputs": [
        {
          "data": {
            "text/plain": [
              "[('man', 0.6628609299659729),\n",
              " ('queen', 0.6438563466072083),\n",
              " ('girl', 0.6136074066162109)]"
            ]
          },
          "execution_count": 11,
          "metadata": {},
          "output_type": "execute_result"
        }
      ],
      "source": [
        "wv.most_similar(positive=['woman', 'king'], topn=3)"
      ]
    },
    {
      "cell_type": "code",
      "execution_count": 12,
      "metadata": {
        "id": "77of9vb4Nngx"
      },
      "outputs": [],
      "source": [
        "words = [\"ball\",'bat','football','basketball','table']"
      ]
    },
    {
      "cell_type": "code",
      "execution_count": 27,
      "metadata": {
        "id": "Xw50zX3EbDqh"
      },
      "outputs": [],
      "source": [
        "# https://deepai.org/dataset/text8"
      ]
    },
    {
      "cell_type": "code",
      "execution_count": 13,
      "metadata": {
        "colab": {
          "base_uri": "https://localhost:8080/"
        },
        "id": "DYpApeTjBYZ1",
        "outputId": "ad274bbf-1fca-4751-d755-dbb1f0f715df"
      },
      "outputs": [
        {
          "data": {
            "text/plain": [
              "array([[ 1.0603584 , -1.1092708 ],\n",
              "       [ 1.9596825 , -0.6188101 ],\n",
              "       [-1.5409298 , -0.31563047],\n",
              "       [-1.8562099 , -0.5068036 ],\n",
              "       [ 0.37709868,  2.550516  ]], dtype=float32)"
            ]
          },
          "execution_count": 13,
          "metadata": {},
          "output_type": "execute_result"
        }
      ],
      "source": [
        "sample_vectors = np.array([wv[word] for word in words])\n",
        "from sklearn.decomposition import PCA\n",
        "pca = PCA(n_components=2)\n",
        "result = pca.fit_transform(sample_vectors)\n",
        "result"
      ]
    },
    {
      "cell_type": "markdown",
      "metadata": {
        "id": "TnJ-I-8sd3uy"
      },
      "source": [
        "### Visualizing these word vectors"
      ]
    },
    {
      "cell_type": "code",
      "execution_count": 14,
      "metadata": {
        "colab": {
          "base_uri": "https://localhost:8080/",
          "height": 700
        },
        "id": "vLRFzuXLd3u3",
        "outputId": "843871df-5c15-4619-b825-85dca05f94b0"
      },
      "outputs": [
        {
          "data": {
            "image/png": "[encoded data removed]",
            "text/plain": [
              "<Figure size 1200x1200 with 1 Axes>"
            ]
          },
          "metadata": {},
          "output_type": "display_data"
        }
      ],
      "source": [
        "plt.figure(figsize=(12,12))\n",
        "plt.scatter(result[:,0], result[:,1])\n",
        "for i, word in enumerate(words):\n",
        "    plt.annotate(word, xy=(result[i, 0], result[i, 1]))\n",
        "plt.show()"
      ]
    },
    {
      "cell_type": "code",
      "execution_count": 15,
      "metadata": {
        "colab": {
          "base_uri": "https://localhost:8080/",
          "height": 296
        },
        "id": "r8q8h4K3dXcI",
        "outputId": "bb3393f7-e224-434f-a172-c1445bab0ede"
      },
      "outputs": [
        {
          "data": {
            "text/html": [
              "<div>\n",
              "<style scoped>\n",
              "    .dataframe tbody tr th:only-of-type {\n",
              "        vertical-align: middle;\n",
              "    }\n",
              "\n",
              "    .dataframe tbody tr th {\n",
              "        vertical-align: top;\n",
              "    }\n",
              "\n",
              "    .dataframe thead th {\n",
              "        text-align: right;\n",
              "    }\n",
              "</style>\n",
              "<table border=\"1\" class=\"dataframe\">\n",
              "  <thead>\n",
              "    <tr style=\"text-align: right;\">\n",
              "      <th></th>\n",
              "      <th>id</th>\n",
              "      <th>content</th>\n",
              "      <th>label</th>\n",
              "    </tr>\n",
              "  </thead>\n",
              "  <tbody>\n",
              "    <tr>\n",
              "      <th>0</th>\n",
              "      <td>1</td>\n",
              "      <td>Electromagnetic fields (EMFs) are invisible li...</td>\n",
              "      <td>1</td>\n",
              "    </tr>\n",
              "    <tr>\n",
              "      <th>1</th>\n",
              "      <td>2</td>\n",
              "      <td>Cryptosporidium infection in acquired immunode...</td>\n",
              "      <td>0</td>\n",
              "    </tr>\n",
              "    <tr>\n",
              "      <th>2</th>\n",
              "      <td>3</td>\n",
              "      <td>In today's world, it is not uncommon to see p...</td>\n",
              "      <td>1</td>\n",
              "    </tr>\n",
              "    <tr>\n",
              "      <th>3</th>\n",
              "      <td>4</td>\n",
              "      <td>Tension pneumopericardium as a complication of...</td>\n",
              "      <td>0</td>\n",
              "    </tr>\n",
              "    <tr>\n",
              "      <th>4</th>\n",
              "      <td>5</td>\n",
              "      <td>Urgent care center pediatric telephone advice....</td>\n",
              "      <td>0</td>\n",
              "    </tr>\n",
              "  </tbody>\n",
              "</table>\n",
              "</div>"
            ],
            "text/plain": [
              "   id                                            content  label\n",
              "0   1  Electromagnetic fields (EMFs) are invisible li...      1\n",
              "1   2  Cryptosporidium infection in acquired immunode...      0\n",
              "2   3   In today's world, it is not uncommon to see p...      1\n",
              "3   4  Tension pneumopericardium as a complication of...      0\n",
              "4   5  Urgent care center pediatric telephone advice....      0"
            ]
          },
          "execution_count": 15,
          "metadata": {},
          "output_type": "execute_result"
        }
      ],
      "source": [
        "data = pd.read_csv(\"FullDataset/final_dataset.csv\")\n",
        "data.head()"
      ]
    },
    {
      "cell_type": "code",
      "execution_count": 16,
      "metadata": {
        "id": "Lkq3vjTRcGXz"
      },
      "outputs": [],
      "source": [
        "def sent_vec(sent):\n",
        "    vector_size = wv.vector_size\n",
        "    wv_res = np.zeros(vector_size)\n",
        "    # print(wv_res)\n",
        "    ctr = 1\n",
        "    for w in sent:\n",
        "        if w in wv:\n",
        "            ctr += 1\n",
        "            wv_res += wv[w]\n",
        "    wv_res = wv_res/ctr\n",
        "    return wv_res"
      ]
    },
    {
      "cell_type": "code",
      "execution_count": 17,
      "metadata": {
        "id": "1X-v4Q9adjfC"
      },
      "outputs": [],
      "source": [
        "# Creating our tokenizer function\n",
        "def spacy_tokenizer(sentence):\n",
        "    # Creating our token object, which is used to create documents with linguistic annotations.\n",
        "    doc = nlp(sentence)\n",
        "\n",
        "\n",
        "\n",
        "    # print(doc)\n",
        "    # print(type(doc))\n",
        "\n",
        "    # Lemmatizing each token and converting each token into lowercase\n",
        "    mytokens = [ word.lemma_.lower().strip() for word in doc ]\n",
        "\n",
        "    # print(mytokens)\n",
        "\n",
        "    # Removing stop words\n",
        "    mytokens = [ word for word in mytokens if word not in stop_words and word not in punctuations ]\n",
        "\n",
        "    # return preprocessed list of tokens\n",
        "    return mytokens"
      ]
    },
    {
      "cell_type": "code",
      "execution_count": 18,
      "metadata": {
        "colab": {
          "base_uri": "https://localhost:8080/"
        },
        "id": "d7PkUr8fcIny",
        "outputId": "6bbca910-b689-43c3-a00b-69198b0cdff7"
      },
      "outputs": [
        {
          "data": {
            "text/plain": [
              "array([-0.08447266,  0.10973685, -0.00453404,  0.18362863, -0.05944824,\n",
              "       -0.04013497, -0.10041155,  0.03710938, -0.02503313,  0.04729353,\n",
              "       -0.07543836, -0.16434152, -0.1116333 ,  0.02915737, -0.12290737,\n",
              "        0.10421317, -0.00425502,  0.27535575, -0.01681083, -0.08075387,\n",
              "       -0.26747349, -0.07281712,  0.08138602, -0.02498954, -0.05358887,\n",
              "       -0.07969884, -0.30385045,  0.10531616, -0.03756278, -0.04029192,\n",
              "        0.06455776, -0.02200753, -0.11361694, -0.12702288, -0.19824219,\n",
              "        0.06921387, -0.14557757,  0.18457031, -0.05542864,  0.10093471,\n",
              "        0.10728237, -0.07920619, -0.01236398,  0.11485073,  0.09437779,\n",
              "        0.02020509, -0.08954729, -0.12911551, -0.0363072 ,  0.05212402,\n",
              "       -0.12200056,  0.23856027, -0.04056222,  0.12512207,  0.05569894,\n",
              "        0.1237793 , -0.08370536, -0.05489676, -0.0291748 , -0.18401228,\n",
              "       -0.14592634, -0.04910714, -0.15844727, -0.03636387,  0.00628662,\n",
              "       -0.30032785, -0.11404855,  0.08530971,  0.01077706,  0.0574428 ,\n",
              "       -0.09995815, -0.10465785,  0.10574777, -0.00917271, -0.09824262,\n",
              "       -0.04896763,  0.17745536, -0.04339164, -0.06466239,  0.01313128,\n",
              "       -0.09603446,  0.00534494,  0.08458383,  0.01998465,  0.02692522,\n",
              "        0.02752686, -0.02007185,  0.3390067 ,  0.02928162,  0.09033203,\n",
              "        0.07870047,  0.00167411, -0.0333252 , -0.02891323, -0.06089565,\n",
              "        0.07552665, -0.04833984, -0.01628767,  0.10260882, -0.13987514,\n",
              "       -0.08775112, -0.00132533, -0.06152344, -0.04595075,  0.01752145,\n",
              "        0.18024554, -0.06834194,  0.08422852, -0.07257952, -0.07781546,\n",
              "       -0.04582868, -0.10940988,  0.02358028, -0.14972796,  0.01388441,\n",
              "        0.11439732,  0.08854621, -0.00599016,  0.09349278,  0.05398451,\n",
              "        0.07191685,  0.04185268,  0.07831682,  0.08750698,  0.12862723,\n",
              "       -0.21013532,  0.00840105,  0.03111049,  0.03386579,  0.10358538,\n",
              "       -0.07373047, -0.0549142 , -0.01322283, -0.06009347, -0.11294992,\n",
              "        0.00795201,  0.0183803 ,  0.15813337,  0.17522321,  0.20354353,\n",
              "        0.09742955,  0.00415039, -0.00454276, -0.05308315, -0.09364537,\n",
              "        0.02223914, -0.0718471 ,  0.07327706, -0.07641602,  0.01175145,\n",
              "       -0.00167411, -0.28180804, -0.12304688, -0.05371094, -0.11308943,\n",
              "       -0.07055664,  0.04776219,  0.20068359, -0.01813834, -0.02026367,\n",
              "        0.03273228,  0.16364397,  0.07322475,  0.05316162,  0.04755511,\n",
              "       -0.01130022,  0.12465123,  0.06210981, -0.11111886,  0.10103062,\n",
              "       -0.13741629, -0.13131278,  0.03572301, -0.02902658, -0.07064383,\n",
              "        0.21592494,  0.20410156, -0.18233817,  0.08067104,  0.01032366,\n",
              "       -0.07979911,  0.11033412,  0.06340681,  0.02211217, -0.08592006,\n",
              "        0.07704381, -0.0725272 ,  0.07187544,  0.01211984, -0.03060477,\n",
              "        0.0861642 , -0.15258789, -0.12581961,  0.0480957 ,  0.17222377,\n",
              "        0.01384626, -0.02099609, -0.00728498,  0.06734794, -0.02685547,\n",
              "       -0.11829485,  0.04153878, -0.12597656, -0.13134766,  0.05083357,\n",
              "       -0.0584368 , -0.07868304,  0.09730748, -0.05726842,  0.13896833,\n",
              "        0.13838414, -0.00094169, -0.1723284 ,  0.05303083, -0.11791992,\n",
              "       -0.00174386,  0.1492048 , -0.07749721, -0.04099819,  0.02959333,\n",
              "       -0.05730329,  0.15049526,  0.22276088, -0.00498744,  0.05608259,\n",
              "       -0.11181641,  0.08290318,  0.13769531, -0.02134487, -0.01025391,\n",
              "       -0.01314872,  0.00779506, -0.16397531, -0.05090332, -0.02671596,\n",
              "        0.06131417, -0.09092494,  0.13727679,  0.11607143,  0.02842494,\n",
              "        0.07364764,  0.07584054,  0.17138672, -0.08429827, -0.00184849,\n",
              "        0.12456839, -0.13391113,  0.13455636, -0.12329102, -0.00519671,\n",
              "        0.10740716, -0.05678013, -0.02547782,  0.12550572, -0.04554967,\n",
              "       -0.12297712, -0.00975255,  0.00516183,  0.0862296 , -0.06199864,\n",
              "       -0.0128697 , -0.03205218,  0.0324707 , -0.08956473, -0.09884208,\n",
              "        0.08334351,  0.11446708, -0.03658622,  0.05376761, -0.04617746,\n",
              "       -0.06955174,  0.0453404 ,  0.14022391,  0.02305385,  0.07013811,\n",
              "       -0.01949637, -0.22670201, -0.1367885 , -0.10330636,  0.08925084,\n",
              "        0.01345389,  0.24515751,  0.01749093, -0.05561175,  0.06201172,\n",
              "       -0.017116  ,  0.01143101,  0.01436942, -0.05946568, -0.09169224,\n",
              "        0.04420689, -0.06291853, -0.20572335,  0.10785784, -0.01130022,\n",
              "       -0.15813337, -0.11539132, -0.00368827, -0.00578962,  0.05154855])"
            ]
          },
          "execution_count": 18,
          "metadata": {},
          "output_type": "execute_result"
        }
      ],
      "source": [
        "sent_vec(\"I am happy\")"
      ]
    },
    {
      "cell_type": "code",
      "execution_count": 36,
      "metadata": {},
      "outputs": [
        {
          "name": "stdout",
          "output_type": "stream",
          "text": [
            "Collecting en-core-web-sm==3.7.1\n",
            "  Downloading https://github.com/explosion/spacy-models/releases/download/en_core_web_sm-3.7.1/en_core_web_sm-3.7.1-py3-none-any.whl (12.8 MB)\n",
            "     ---------------------------------------- 0.0/12.8 MB ? eta -:--:--\n",
            "     ---------------------------------------- 0.0/12.8 MB ? eta -:--:--\n",
            "     ---------------------------------------- 0.1/12.8 MB 1.2 MB/s eta 0:00:11\n",
            "      --------------------------------------- 0.2/12.8 MB 1.8 MB/s eta 0:00:07\n",
            "     - -------------------------------------- 0.5/12.8 MB 2.7 MB/s eta 0:00:05\n",
            "     --- ------------------------------------ 1.0/12.8 MB 4.5 MB/s eta 0:00:03\n",
            "     --- ------------------------------------ 1.3/12.8 MB 4.8 MB/s eta 0:00:03\n",
            "     ------ --------------------------------- 2.1/12.8 MB 6.8 MB/s eta 0:00:02\n",
            "     --------- ------------------------------ 3.0/12.8 MB 8.2 MB/s eta 0:00:02\n",
            "     ----------- ---------------------------- 3.7/12.8 MB 9.6 MB/s eta 0:00:01\n",
            "     ----------- ---------------------------- 3.7/12.8 MB 9.6 MB/s eta 0:00:01\n",
            "     ----------- ---------------------------- 3.7/12.8 MB 9.6 MB/s eta 0:00:01\n",
            "     ------------ --------------------------- 4.2/12.8 MB 7.8 MB/s eta 0:00:02\n",
            "     -------------- ------------------------- 4.7/12.8 MB 7.9 MB/s eta 0:00:02\n",
            "     -------------- ------------------------- 4.7/12.8 MB 7.9 MB/s eta 0:00:02\n",
            "     -------------- ------------------------- 4.7/12.8 MB 7.9 MB/s eta 0:00:02\n",
            "     -------------- ------------------------- 4.7/12.8 MB 7.9 MB/s eta 0:00:02\n",
            "     -------------- ------------------------- 4.8/12.8 MB 6.2 MB/s eta 0:00:02\n",
            "     -------------- ------------------------- 4.8/12.8 MB 6.2 MB/s eta 0:00:02\n",
            "     --------------- ------------------------ 4.9/12.8 MB 5.6 MB/s eta 0:00:02\n",
            "     --------------- ------------------------ 4.9/12.8 MB 5.6 MB/s eta 0:00:02\n",
            "     --------------- ------------------------ 5.0/12.8 MB 5.3 MB/s eta 0:00:02\n",
            "     --------------- ------------------------ 5.1/12.8 MB 5.2 MB/s eta 0:00:02\n",
            "     ---------------- ----------------------- 5.2/12.8 MB 4.9 MB/s eta 0:00:02\n",
            "     ---------------- ----------------------- 5.3/12.8 MB 4.9 MB/s eta 0:00:02\n",
            "     ----------------- ---------------------- 5.4/12.8 MB 4.8 MB/s eta 0:00:02\n",
            "     ----------------- ---------------------- 5.7/12.8 MB 4.8 MB/s eta 0:00:02\n",
            "     ------------------- -------------------- 6.3/12.8 MB 5.1 MB/s eta 0:00:02\n",
            "     -------------------- ------------------- 6.6/12.8 MB 5.1 MB/s eta 0:00:02\n",
            "     ---------------------- ----------------- 7.3/12.8 MB 5.4 MB/s eta 0:00:02\n",
            "     ------------------------ --------------- 7.8/12.8 MB 5.6 MB/s eta 0:00:01\n",
            "     -------------------------- ------------- 8.5/12.8 MB 5.9 MB/s eta 0:00:01\n",
            "     ---------------------------- ----------- 9.0/12.8 MB 6.1 MB/s eta 0:00:01\n",
            "     ------------------------------ --------- 9.6/12.8 MB 6.3 MB/s eta 0:00:01\n",
            "     ------------------------------- -------- 10.1/12.8 MB 6.4 MB/s eta 0:00:01\n",
            "     --------------------------------- ------ 10.7/12.8 MB 7.0 MB/s eta 0:00:01\n",
            "     ---------------------------------- ----- 11.2/12.8 MB 7.0 MB/s eta 0:00:01\n",
            "     ------------------------------------ --- 11.7/12.8 MB 7.1 MB/s eta 0:00:01\n",
            "     -------------------------------------- - 12.3/12.8 MB 7.0 MB/s eta 0:00:01\n",
            "     ---------------------------------------  12.8/12.8 MB 7.0 MB/s eta 0:00:01\n",
            "     ---------------------------------------- 12.8/12.8 MB 6.8 MB/s eta 0:00:00\n",
            "Requirement already satisfied: spacy<3.8.0,>=3.7.2 in c:\\users\\ajinkya\\appdata\\local\\programs\\python\\python310\\lib\\site-packages (from en-core-web-sm==3.7.1) (3.7.4)\n",
            "Requirement already satisfied: spacy-legacy<3.1.0,>=3.0.11 in c:\\users\\ajinkya\\appdata\\local\\programs\\python\\python310\\lib\\site-packages (from spacy<3.8.0,>=3.7.2->en-core-web-sm==3.7.1) (3.0.12)\n",
            "Requirement already satisfied: spacy-loggers<2.0.0,>=1.0.0 in c:\\users\\ajinkya\\appdata\\local\\programs\\python\\python310\\lib\\site-packages (from spacy<3.8.0,>=3.7.2->en-core-web-sm==3.7.1) (1.0.5)\n",
            "Requirement already satisfied: murmurhash<1.1.0,>=0.28.0 in c:\\users\\ajinkya\\appdata\\local\\programs\\python\\python310\\lib\\site-packages (from spacy<3.8.0,>=3.7.2->en-core-web-sm==3.7.1) (1.0.10)\n",
            "Requirement already satisfied: cymem<2.1.0,>=2.0.2 in c:\\users\\ajinkya\\appdata\\local\\programs\\python\\python310\\lib\\site-packages (from spacy<3.8.0,>=3.7.2->en-core-web-sm==3.7.1) (2.0.8)\n",
            "Requirement already satisfied: preshed<3.1.0,>=3.0.2 in c:\\users\\ajinkya\\appdata\\local\\programs\\python\\python310\\lib\\site-packages (from spacy<3.8.0,>=3.7.2->en-core-web-sm==3.7.1) (3.0.9)\n",
            "Requirement already satisfied: thinc<8.3.0,>=8.2.2 in c:\\users\\ajinkya\\appdata\\local\\programs\\python\\python310\\lib\\site-packages (from spacy<3.8.0,>=3.7.2->en-core-web-sm==3.7.1) (8.2.3)\n",
            "Requirement already satisfied: wasabi<1.2.0,>=0.9.1 in c:\\users\\ajinkya\\appdata\\local\\programs\\python\\python310\\lib\\site-packages (from spacy<3.8.0,>=3.7.2->en-core-web-sm==3.7.1) (1.1.2)\n",
            "Requirement already satisfied: srsly<3.0.0,>=2.4.3 in c:\\users\\ajinkya\\appdata\\local\\programs\\python\\python310\\lib\\site-packages (from spacy<3.8.0,>=3.7.2->en-core-web-sm==3.7.1) (2.4.8)\n",
            "Requirement already satisfied: catalogue<2.1.0,>=2.0.6 in c:\\users\\ajinkya\\appdata\\local\\programs\\python\\python310\\lib\\site-packages (from spacy<3.8.0,>=3.7.2->en-core-web-sm==3.7.1) (2.0.10)\n",
            "Requirement already satisfied: weasel<0.4.0,>=0.1.0 in c:\\users\\ajinkya\\appdata\\local\\programs\\python\\python310\\lib\\site-packages (from spacy<3.8.0,>=3.7.2->en-core-web-sm==3.7.1) (0.3.4)\n",
            "Requirement already satisfied: typer<0.10.0,>=0.3.0 in c:\\users\\ajinkya\\appdata\\local\\programs\\python\\python310\\lib\\site-packages (from spacy<3.8.0,>=3.7.2->en-core-web-sm==3.7.1) (0.9.4)\n",
            "Requirement already satisfied: smart-open<7.0.0,>=5.2.1 in c:\\users\\ajinkya\\appdata\\local\\programs\\python\\python310\\lib\\site-packages (from spacy<3.8.0,>=3.7.2->en-core-web-sm==3.7.1) (6.4.0)\n",
            "Requirement already satisfied: tqdm<5.0.0,>=4.38.0 in c:\\users\\ajinkya\\appdata\\local\\programs\\python\\python310\\lib\\site-packages (from spacy<3.8.0,>=3.7.2->en-core-web-sm==3.7.1) (4.66.2)\n",
            "Requirement already satisfied: requests<3.0.0,>=2.13.0 in c:\\users\\ajinkya\\appdata\\local\\programs\\python\\python310\\lib\\site-packages (from spacy<3.8.0,>=3.7.2->en-core-web-sm==3.7.1) (2.28.1)\n",
            "Requirement already satisfied: pydantic!=1.8,!=1.8.1,<3.0.0,>=1.7.4 in c:\\users\\ajinkya\\appdata\\local\\programs\\python\\python310\\lib\\site-packages (from spacy<3.8.0,>=3.7.2->en-core-web-sm==3.7.1) (2.6.4)\n",
            "Requirement already satisfied: jinja2 in c:\\users\\ajinkya\\appdata\\local\\programs\\python\\python310\\lib\\site-packages (from spacy<3.8.0,>=3.7.2->en-core-web-sm==3.7.1) (3.1.2)\n",
            "Requirement already satisfied: setuptools in c:\\users\\ajinkya\\appdata\\local\\programs\\python\\python310\\lib\\site-packages (from spacy<3.8.0,>=3.7.2->en-core-web-sm==3.7.1) (58.1.0)\n",
            "Requirement already satisfied: packaging>=20.0 in c:\\users\\ajinkya\\appdata\\local\\programs\\python\\python310\\lib\\site-packages (from spacy<3.8.0,>=3.7.2->en-core-web-sm==3.7.1) (21.3)\n",
            "Requirement already satisfied: langcodes<4.0.0,>=3.2.0 in c:\\users\\ajinkya\\appdata\\local\\programs\\python\\python310\\lib\\site-packages (from spacy<3.8.0,>=3.7.2->en-core-web-sm==3.7.1) (3.3.0)\n",
            "Requirement already satisfied: numpy>=1.19.0 in c:\\users\\ajinkya\\appdata\\local\\programs\\python\\python310\\lib\\site-packages (from spacy<3.8.0,>=3.7.2->en-core-web-sm==3.7.1) (1.23.5)\n",
            "Requirement already satisfied: pyparsing!=3.0.5,>=2.0.2 in c:\\users\\ajinkya\\appdata\\local\\programs\\python\\python310\\lib\\site-packages (from packaging>=20.0->spacy<3.8.0,>=3.7.2->en-core-web-sm==3.7.1) (3.0.9)\n",
            "Requirement already satisfied: annotated-types>=0.4.0 in c:\\users\\ajinkya\\appdata\\local\\programs\\python\\python310\\lib\\site-packages (from pydantic!=1.8,!=1.8.1,<3.0.0,>=1.7.4->spacy<3.8.0,>=3.7.2->en-core-web-sm==3.7.1) (0.6.0)\n",
            "Requirement already satisfied: pydantic-core==2.16.3 in c:\\users\\ajinkya\\appdata\\local\\programs\\python\\python310\\lib\\site-packages (from pydantic!=1.8,!=1.8.1,<3.0.0,>=1.7.4->spacy<3.8.0,>=3.7.2->en-core-web-sm==3.7.1) (2.16.3)\n",
            "Requirement already satisfied: typing-extensions>=4.6.1 in c:\\users\\ajinkya\\appdata\\local\\programs\\python\\python310\\lib\\site-packages (from pydantic!=1.8,!=1.8.1,<3.0.0,>=1.7.4->spacy<3.8.0,>=3.7.2->en-core-web-sm==3.7.1) (4.9.0)\n",
            "Requirement already satisfied: charset-normalizer<3,>=2 in c:\\users\\ajinkya\\appdata\\local\\programs\\python\\python310\\lib\\site-packages (from requests<3.0.0,>=2.13.0->spacy<3.8.0,>=3.7.2->en-core-web-sm==3.7.1) (2.1.0)\n",
            "Requirement already satisfied: idna<4,>=2.5 in c:\\users\\ajinkya\\appdata\\local\\programs\\python\\python310\\lib\\site-packages (from requests<3.0.0,>=2.13.0->spacy<3.8.0,>=3.7.2->en-core-web-sm==3.7.1) (3.3)\n",
            "Requirement already satisfied: urllib3<1.27,>=1.21.1 in c:\\users\\ajinkya\\appdata\\local\\programs\\python\\python310\\lib\\site-packages (from requests<3.0.0,>=2.13.0->spacy<3.8.0,>=3.7.2->en-core-web-sm==3.7.1) (1.26.9)\n",
            "Requirement already satisfied: certifi>=2017.4.17 in c:\\users\\ajinkya\\appdata\\local\\programs\\python\\python310\\lib\\site-packages (from requests<3.0.0,>=2.13.0->spacy<3.8.0,>=3.7.2->en-core-web-sm==3.7.1) (2022.6.15)\n",
            "Requirement already satisfied: blis<0.8.0,>=0.7.8 in c:\\users\\ajinkya\\appdata\\local\\programs\\python\\python310\\lib\\site-packages (from thinc<8.3.0,>=8.2.2->spacy<3.8.0,>=3.7.2->en-core-web-sm==3.7.1) (0.7.11)\n",
            "Requirement already satisfied: confection<1.0.0,>=0.0.1 in c:\\users\\ajinkya\\appdata\\local\\programs\\python\\python310\\lib\\site-packages (from thinc<8.3.0,>=8.2.2->spacy<3.8.0,>=3.7.2->en-core-web-sm==3.7.1) (0.1.4)\n",
            "Requirement already satisfied: colorama in c:\\users\\ajinkya\\appdata\\local\\programs\\python\\python310\\lib\\site-packages (from tqdm<5.0.0,>=4.38.0->spacy<3.8.0,>=3.7.2->en-core-web-sm==3.7.1) (0.4.6)\n",
            "Requirement already satisfied: click<9.0.0,>=7.1.1 in c:\\users\\ajinkya\\appdata\\local\\programs\\python\\python310\\lib\\site-packages (from typer<0.10.0,>=0.3.0->spacy<3.8.0,>=3.7.2->en-core-web-sm==3.7.1) (8.1.3)\n",
            "Requirement already satisfied: cloudpathlib<0.17.0,>=0.7.0 in c:\\users\\ajinkya\\appdata\\local\\programs\\python\\python310\\lib\\site-packages (from weasel<0.4.0,>=0.1.0->spacy<3.8.0,>=3.7.2->en-core-web-sm==3.7.1) (0.16.0)\n",
            "Requirement already satisfied: MarkupSafe>=2.0 in c:\\users\\ajinkya\\appdata\\local\\programs\\python\\python310\\lib\\site-packages (from jinja2->spacy<3.8.0,>=3.7.2->en-core-web-sm==3.7.1) (2.1.1)\n",
            "Installing collected packages: en-core-web-sm\n",
            "Successfully installed en-core-web-sm-3.7.1\n",
            "\u001b[38;5;2m✔ Download and installation successful\u001b[0m\n",
            "You can now load the package via spacy.load('en_core_web_sm')\n"
          ]
        },
        {
          "name": "stderr",
          "output_type": "stream",
          "text": [
            "WARNING: Ignoring invalid distribution -ensorflow-intel (c:\\users\\ajinkya\\appdata\\local\\programs\\python\\python310\\lib\\site-packages)\n",
            "WARNING: Ignoring invalid distribution -illow (c:\\users\\ajinkya\\appdata\\local\\programs\\python\\python310\\lib\\site-packages)\n",
            "WARNING: Ignoring invalid distribution -rotobuf (c:\\users\\ajinkya\\appdata\\local\\programs\\python\\python310\\lib\\site-packages)\n",
            "WARNING: Ignoring invalid distribution -ensorflow-intel (c:\\users\\ajinkya\\appdata\\local\\programs\\python\\python310\\lib\\site-packages)\n",
            "WARNING: Ignoring invalid distribution -illow (c:\\users\\ajinkya\\appdata\\local\\programs\\python\\python310\\lib\\site-packages)\n",
            "WARNING: Ignoring invalid distribution -rotobuf (c:\\users\\ajinkya\\appdata\\local\\programs\\python\\python310\\lib\\site-packages)\n"
          ]
        }
      ],
      "source": [
        "!python -m spacy download en_core_web_sm"
      ]
    },
    {
      "cell_type": "code",
      "execution_count": 19,
      "metadata": {
        "colab": {
          "base_uri": "https://localhost:8080/"
        },
        "id": "MrfAYBjQdoGe",
        "outputId": "9c58b564-b93e-421d-f972-bd2d2b5db381"
      },
      "outputs": [
        {
          "name": "stdout",
          "output_type": "stream",
          "text": [
            "{'many', 'beyond', 'does', 'already', 'she', 'by', 'others', 'back', 'i', 'eleven', 'thru', 'side', 'n‘t', 'again', 'being', 'less', 'twelve', 'us', 'between', 'herein', 'anything', 'been', 'do', 'sometime', 'yourselves', 'whither', 'above', 'for', 'have', 'elsewhere', 'something', 'on', 'meanwhile', 'otherwise', '‘d', 'empty', 'three', 'some', 'across', 'together', '‘re', 'none', 'of', 'thus', 'much', 'although', 'myself', 'nor', 'has', 'around', 'though', 'say', 'someone', 'alone', 'name', 'should', 'into', 'herself', 'not', 'can', 'hereupon', 'whole', 'than', 'any', 'first', 'would', 'done', 'under', 'below', 'due', 'serious', 'hers', 'next', 'they', 'same', 'anywhere', 'these', 'least', 'thence', 'namely', 'becoming', 'whereupon', 'now', 'give', 'show', 'whence', '‘ll', '‘s', 'his', 'more', 'ca', 'n’t', 'along', 'my', 'who', 'wherein', 'former', \"'s\", 'enough', \"'d\", 'anyone', 'last', 'this', 'move', 'made', 'various', 'beforehand', 'then', 'therefore', 'whoever', 'from', 'whereafter', 'afterwards', 'we', 'eight', 'please', 'thereby', 'among', \"'m\", 'six', 'after', '’d', \"n't\", 'ours', 'there', 'toward', 'really', 'how', 'get', 'itself', 'what', 'to', 'fifty', 'moreover', 'and', 'could', 'themselves', 'off', 'own', 'both', 'but', '’re', 'might', 'keep', 'in', 'each', 'take', 'whenever', 'which', 'at', 'were', 'am', \"'re\", 'amongst', 'nothing', '’s', 'either', 'never', 'everything', 'except', 'too', 'very', 'nowhere', 'all', 'other', 'whereas', 'whatever', 'whom', 'since', 'against', 'during', 'with', 'such', 'neither', 'somewhere', 'sixty', 'within', 'five', 'formerly', 'using', 'him', 'nevertheless', 'as', 'four', 'whose', 'once', 'was', 'you', 'about', 'indeed', 'just', 'always', 'even', 'several', 'throughout', 'hereby', 'will', 'two', 'anyway', 'further', 'are', 'everywhere', 'yours', 'so', 'used', 'part', 'an', 'over', 'fifteen', 'also', 'per', 'amount', '‘ve', 'he', 'noone', 'why', 'whereby', 'almost', 'a', 'without', '‘m', 'mostly', 'hence', 'is', 'beside', 'else', 'cannot', 'well', 'ourselves', 'when', 'see', 'down', 'most', 'seemed', 'front', 'seem', 'out', 'yourself', 'perhaps', 'may', 'before', 'quite', 'where', 'rather', 'somehow', \"'ve\", 'himself', 'latterly', 'whether', 'still', 'until', 'go', 'therein', 'those', 'ever', 'call', 'doing', 'did', 'besides', 'everyone', 'if', 'towards', 'or', 'the', 'their', 'top', 'your', 'thereafter', 'our', 'nobody', 'hundred', 'her', 'often', 'seeming', 'few', 're', 'unless', 'put', 'no', 'through', 'while', 'regarding', 'every', 'third', 'yet', 'become', 'nine', 'sometimes', 'bottom', 'thereupon', 'however', \"'ll\", 'another', 'them', 'that', 'twenty', 'it', 'upon', 'seems', 'becomes', 'hereafter', 'only', 'make', 'full', 'via', 'onto', 'ten', 'forty', 'behind', 'had', 'me', 'anyhow', 'up', 'because', '’ve', 'wherever', 'must', 'be', 'here', 'latter', '’ll', 'one', 'became', '’m', 'its', 'mine'}\n"
          ]
        }
      ],
      "source": [
        "nlp = spacy.load(\"en_core_web_sm\")\n",
        "stop_words = nlp.Defaults.stop_words\n",
        "print(stop_words)"
      ]
    },
    {
      "cell_type": "code",
      "execution_count": 20,
      "metadata": {
        "colab": {
          "base_uri": "https://localhost:8080/"
        },
        "id": "UDO7z2qxdu9c",
        "outputId": "5f386646-d565-4467-f71c-aea2628c2118"
      },
      "outputs": [
        {
          "name": "stdout",
          "output_type": "stream",
          "text": [
            "!\"#$%&'()*+,-./:;<=>?@[\\]^_`{|}~\n"
          ]
        }
      ],
      "source": [
        "punctuations = string.punctuation\n",
        "print(punctuations)"
      ]
    },
    {
      "cell_type": "code",
      "execution_count": 21,
      "metadata": {
        "id": "vnv2KJUld3AP"
      },
      "outputs": [],
      "source": [
        "data['tokens'] = data['content'].apply(spacy_tokenizer)"
      ]
    },
    {
      "cell_type": "code",
      "execution_count": 22,
      "metadata": {
        "colab": {
          "base_uri": "https://localhost:8080/",
          "height": 206
        },
        "id": "efY14RdKeDIB",
        "outputId": "74aeb8b2-732f-417e-e5ea-68a2ae06ec6f"
      },
      "outputs": [
        {
          "data": {
            "text/html": [
              "<div>\n",
              "<style scoped>\n",
              "    .dataframe tbody tr th:only-of-type {\n",
              "        vertical-align: middle;\n",
              "    }\n",
              "\n",
              "    .dataframe tbody tr th {\n",
              "        vertical-align: top;\n",
              "    }\n",
              "\n",
              "    .dataframe thead th {\n",
              "        text-align: right;\n",
              "    }\n",
              "</style>\n",
              "<table border=\"1\" class=\"dataframe\">\n",
              "  <thead>\n",
              "    <tr style=\"text-align: right;\">\n",
              "      <th></th>\n",
              "      <th>id</th>\n",
              "      <th>content</th>\n",
              "      <th>label</th>\n",
              "      <th>tokens</th>\n",
              "    </tr>\n",
              "  </thead>\n",
              "  <tbody>\n",
              "    <tr>\n",
              "      <th>0</th>\n",
              "      <td>1</td>\n",
              "      <td>Electromagnetic fields (EMFs) are invisible li...</td>\n",
              "      <td>1</td>\n",
              "      <td>[electromagnetic, field, emfs, invisible, line...</td>\n",
              "    </tr>\n",
              "    <tr>\n",
              "      <th>1</th>\n",
              "      <td>2</td>\n",
              "      <td>Cryptosporidium infection in acquired immunode...</td>\n",
              "      <td>0</td>\n",
              "      <td>[cryptosporidium, infection, acquire, immunode...</td>\n",
              "    </tr>\n",
              "    <tr>\n",
              "      <th>2</th>\n",
              "      <td>3</td>\n",
              "      <td>In today's world, it is not uncommon to see p...</td>\n",
              "      <td>1</td>\n",
              "      <td>[today, world, uncommon, people, plan, future,...</td>\n",
              "    </tr>\n",
              "    <tr>\n",
              "      <th>3</th>\n",
              "      <td>4</td>\n",
              "      <td>Tension pneumopericardium as a complication of...</td>\n",
              "      <td>0</td>\n",
              "      <td>[tension, pneumopericardium, complication, sin...</td>\n",
              "    </tr>\n",
              "    <tr>\n",
              "      <th>4</th>\n",
              "      <td>5</td>\n",
              "      <td>Urgent care center pediatric telephone advice....</td>\n",
              "      <td>0</td>\n",
              "      <td>[urgent, care, center, pediatric, telephone, a...</td>\n",
              "    </tr>\n",
              "  </tbody>\n",
              "</table>\n",
              "</div>"
            ],
            "text/plain": [
              "   id                                            content  label  \\\n",
              "0   1  Electromagnetic fields (EMFs) are invisible li...      1   \n",
              "1   2  Cryptosporidium infection in acquired immunode...      0   \n",
              "2   3   In today's world, it is not uncommon to see p...      1   \n",
              "3   4  Tension pneumopericardium as a complication of...      0   \n",
              "4   5  Urgent care center pediatric telephone advice....      0   \n",
              "\n",
              "                                              tokens  \n",
              "0  [electromagnetic, field, emfs, invisible, line...  \n",
              "1  [cryptosporidium, infection, acquire, immunode...  \n",
              "2  [today, world, uncommon, people, plan, future,...  \n",
              "3  [tension, pneumopericardium, complication, sin...  \n",
              "4  [urgent, care, center, pediatric, telephone, a...  "
            ]
          },
          "execution_count": 22,
          "metadata": {},
          "output_type": "execute_result"
        }
      ],
      "source": [
        "data.head()"
      ]
    },
    {
      "cell_type": "code",
      "execution_count": 23,
      "metadata": {
        "id": "J6fqfDhTeGA4"
      },
      "outputs": [],
      "source": [
        "data['vec'] = data['tokens'].apply(sent_vec)"
      ]
    },
    {
      "cell_type": "code",
      "execution_count": 24,
      "metadata": {
        "colab": {
          "base_uri": "https://localhost:8080/",
          "height": 206
        },
        "id": "IBWAxmw2elxw",
        "outputId": "5ee6f732-8536-41cd-888f-7ea3c0e8bffb"
      },
      "outputs": [
        {
          "data": {
            "text/html": [
              "<div>\n",
              "<style scoped>\n",
              "    .dataframe tbody tr th:only-of-type {\n",
              "        vertical-align: middle;\n",
              "    }\n",
              "\n",
              "    .dataframe tbody tr th {\n",
              "        vertical-align: top;\n",
              "    }\n",
              "\n",
              "    .dataframe thead th {\n",
              "        text-align: right;\n",
              "    }\n",
              "</style>\n",
              "<table border=\"1\" class=\"dataframe\">\n",
              "  <thead>\n",
              "    <tr style=\"text-align: right;\">\n",
              "      <th></th>\n",
              "      <th>id</th>\n",
              "      <th>content</th>\n",
              "      <th>label</th>\n",
              "      <th>tokens</th>\n",
              "      <th>vec</th>\n",
              "    </tr>\n",
              "  </thead>\n",
              "  <tbody>\n",
              "    <tr>\n",
              "      <th>0</th>\n",
              "      <td>1</td>\n",
              "      <td>Electromagnetic fields (EMFs) are invisible li...</td>\n",
              "      <td>1</td>\n",
              "      <td>[electromagnetic, field, emfs, invisible, line...</td>\n",
              "      <td>[-0.04612275283702098, 0.009728257673500228, -...</td>\n",
              "    </tr>\n",
              "    <tr>\n",
              "      <th>1</th>\n",
              "      <td>2</td>\n",
              "      <td>Cryptosporidium infection in acquired immunode...</td>\n",
              "      <td>0</td>\n",
              "      <td>[cryptosporidium, infection, acquire, immunode...</td>\n",
              "      <td>[-0.057352014490076014, 0.13239886309649493, 0...</td>\n",
              "    </tr>\n",
              "    <tr>\n",
              "      <th>2</th>\n",
              "      <td>3</td>\n",
              "      <td>In today's world, it is not uncommon to see p...</td>\n",
              "      <td>1</td>\n",
              "      <td>[today, world, uncommon, people, plan, future,...</td>\n",
              "      <td>[-0.004573328354779411, 0.07043986600988052, 0...</td>\n",
              "    </tr>\n",
              "    <tr>\n",
              "      <th>3</th>\n",
              "      <td>4</td>\n",
              "      <td>Tension pneumopericardium as a complication of...</td>\n",
              "      <td>0</td>\n",
              "      <td>[tension, pneumopericardium, complication, sin...</td>\n",
              "      <td>[0.005199291087962963, 0.15038610387731483, -0...</td>\n",
              "    </tr>\n",
              "    <tr>\n",
              "      <th>4</th>\n",
              "      <td>5</td>\n",
              "      <td>Urgent care center pediatric telephone advice....</td>\n",
              "      <td>0</td>\n",
              "      <td>[urgent, care, center, pediatric, telephone, a...</td>\n",
              "      <td>[-0.09102916717529297, 0.052025794982910156, 0...</td>\n",
              "    </tr>\n",
              "  </tbody>\n",
              "</table>\n",
              "</div>"
            ],
            "text/plain": [
              "   id                                            content  label  \\\n",
              "0   1  Electromagnetic fields (EMFs) are invisible li...      1   \n",
              "1   2  Cryptosporidium infection in acquired immunode...      0   \n",
              "2   3   In today's world, it is not uncommon to see p...      1   \n",
              "3   4  Tension pneumopericardium as a complication of...      0   \n",
              "4   5  Urgent care center pediatric telephone advice....      0   \n",
              "\n",
              "                                              tokens  \\\n",
              "0  [electromagnetic, field, emfs, invisible, line...   \n",
              "1  [cryptosporidium, infection, acquire, immunode...   \n",
              "2  [today, world, uncommon, people, plan, future,...   \n",
              "3  [tension, pneumopericardium, complication, sin...   \n",
              "4  [urgent, care, center, pediatric, telephone, a...   \n",
              "\n",
              "                                                 vec  \n",
              "0  [-0.04612275283702098, 0.009728257673500228, -...  \n",
              "1  [-0.057352014490076014, 0.13239886309649493, 0...  \n",
              "2  [-0.004573328354779411, 0.07043986600988052, 0...  \n",
              "3  [0.005199291087962963, 0.15038610387731483, -0...  \n",
              "4  [-0.09102916717529297, 0.052025794982910156, 0...  "
            ]
          },
          "execution_count": 24,
          "metadata": {},
          "output_type": "execute_result"
        }
      ],
      "source": [
        "data.head()"
      ]
    },
    {
      "cell_type": "code",
      "execution_count": 25,
      "metadata": {
        "id": "6ZLvbyAUe2RQ"
      },
      "outputs": [],
      "source": [
        "X = data['vec'].to_list()\n",
        "y = data['label'].to_list()"
      ]
    },
    {
      "cell_type": "code",
      "execution_count": 26,
      "metadata": {},
      "outputs": [
        {
          "data": {
            "text/plain": [
              "23047"
            ]
          },
          "execution_count": 26,
          "metadata": {},
          "output_type": "execute_result"
        }
      ],
      "source": [
        "len(X)"
      ]
    },
    {
      "cell_type": "code",
      "execution_count": 27,
      "metadata": {
        "id": "M2MvztRqfCGg"
      },
      "outputs": [
        {
          "data": {
            "text/plain": [
              "array([-0.04612275,  0.00972826, -0.01876096,  0.03108026, -0.09336374,\n",
              "        0.05910976,  0.08411669, -0.07103779,  0.13135189,  0.06840565,\n",
              "       -0.05161611, -0.1419651 , -0.01805638,  0.01139275, -0.10507003,\n",
              "        0.08225367, -0.01931852,  0.10755041,  0.03694071, -0.09589202,\n",
              "        0.04206347, -0.04098046, -0.11345144,  0.04956773, -0.03642025,\n",
              "       -0.01036467, -0.0558724 ,  0.02303016, -0.02879634, -0.02706433,\n",
              "       -0.0125063 , -0.07058822, -0.04357289, -0.07436147, -0.02952119,\n",
              "       -0.07337183,  0.01593441,  0.02892251,  0.04183247,  0.03606944,\n",
              "       -0.02253734,  0.01311866,  0.02338084,  0.00743592, -0.09241495,\n",
              "       -0.14969808, -0.0227821 ,  0.03200782, -0.06645748,  0.01617699,\n",
              "       -0.01118581, -0.00843956, -0.06515475, -0.05628243,  0.0316376 ,\n",
              "       -0.0265433 , -0.02422695, -0.09868447,  0.00436685, -0.03222227,\n",
              "       -0.06467321,  0.00408685, -0.04464858,  0.04794144, -0.01509061,\n",
              "        0.0051352 , -0.09036389,  0.16974456, -0.05454669,  0.02950082,\n",
              "        0.00159115, -0.05550056,  0.09956368, -0.02863301, -0.13398882,\n",
              "       -0.0834022 ,  0.08064125,  0.08529374,  0.01660045,  0.07123516,\n",
              "        0.08371257, -0.01846046,  0.1045063 ,  0.05529941, -0.04169175,\n",
              "       -0.02436673, -0.08014406,  0.13608657, -0.0507367 ,  0.03586907,\n",
              "        0.04200037, -0.06199941, -0.06361676, -0.00791218,  0.00927467,\n",
              "       -0.04547164,  0.06941613, -0.00042791,  0.09947589,  0.02681582,\n",
              "        0.00338656, -0.04238001,  0.00386498, -0.00946023,  0.03961805,\n",
              "       -0.09811209, -0.0502419 , -0.03895558,  0.09108631, -0.05266811,\n",
              "       -0.05482182, -0.00838097, -0.01124489, -0.02707043,  0.0936815 ,\n",
              "        0.01572978, -0.02823644,  0.02286713,  0.0803182 ,  0.02207858,\n",
              "       -0.09980979, -0.00076862, -0.10313694,  0.02703451,  0.01201011,\n",
              "        0.00782397, -0.03870854,  0.03529592,  0.0463885 ,  0.09384378,\n",
              "        0.026753  , -0.0657959 , -0.05425474, -0.03686735,  0.00641103,\n",
              "       -0.07570554,  0.13258685,  0.03590031,  0.01083886,  0.04155525,\n",
              "        0.07619604, -0.05062933, -0.08533116,  0.09605619,  0.04561863,\n",
              "       -0.02382905, -0.00741844, -0.01539556, -0.0817782 , -0.03541064,\n",
              "        0.06987935, -0.04152217, -0.0516353 ,  0.0699699 ,  0.00235134,\n",
              "       -0.0483086 , -0.03134979, -0.10766446, -0.05278199, -0.03098662,\n",
              "       -0.01413253,  0.11927662, -0.02165256, -0.0091174 ,  0.01041262,\n",
              "        0.00714557, -0.00879463, -0.0374618 ,  0.00893029, -0.06341308,\n",
              "       -0.02236409, -0.01673767, -0.06077698, -0.02609387,  0.00139016,\n",
              "       -0.02068379,  0.06744541, -0.10972161, -0.05731631,  0.02136353,\n",
              "       -0.07539869, -0.02576474,  0.00612178, -0.0063236 ,  0.02810279,\n",
              "       -0.00611326, -0.08472189,  0.0004727 ,  0.02713347,  0.10238208,\n",
              "       -0.04594483, -0.05743436,  0.00148609, -0.03197708, -0.06252116,\n",
              "        0.03976507,  0.00696514, -0.09228752,  0.01478799, -0.14307443,\n",
              "        0.05527237,  0.08269016, -0.0365017 , -0.05638679,  0.01508593,\n",
              "       -0.03418592, -0.01233835,  0.00049446, -0.03657253, -0.06959868,\n",
              "       -0.0573168 , -0.01007537, -0.09811701,  0.03507784, -0.02102967,\n",
              "        0.00776773,  0.07661516,  0.01779269, -0.08975108, -0.01578672,\n",
              "       -0.04943514, -0.03642652, -0.01572992, -0.01812499, -0.01568247,\n",
              "        0.01102847,  0.03261689,  0.00525882,  0.01808033,  0.04941008,\n",
              "        0.00055088,  0.03890479,  0.02519159, -0.05922182,  0.00443663,\n",
              "       -0.04366628, -0.01198288, -0.03142497,  0.07976805, -0.00892517,\n",
              "        0.00945867, -0.0104017 ,  0.04836574, -0.07302302,  0.0313457 ,\n",
              "       -0.00518487, -0.02623431,  0.09953639,  0.04436543, -0.10469609,\n",
              "        0.02440682, -0.03338707, -0.02246873, -0.01703652,  0.03351415,\n",
              "       -0.09296167,  0.00823752, -0.00190668, -0.04440129, -0.00749357,\n",
              "        0.00492391, -0.06056397, -0.11466956,  0.0102636 ,  0.02147769,\n",
              "        0.0954052 , -0.04015044, -0.09099362, -0.07433224, -0.09407156,\n",
              "        0.00846668,  0.06043026,  0.05357405, -0.00773615,  0.05358814,\n",
              "       -0.07171163, -0.0664361 , -0.07886633, -0.00499976,  0.02660136,\n",
              "        0.05373745,  0.05324195,  0.08598633,  0.01389307, -0.07192035,\n",
              "       -0.05118021,  0.00972099,  0.02555268,  0.04831868, -0.01410915,\n",
              "       -0.06606056,  0.07930449, -0.0200995 , -0.0281313 , -0.08548219,\n",
              "        0.02611578, -0.03457573, -0.02215365,  0.02060003,  0.00192016])"
            ]
          },
          "execution_count": 27,
          "metadata": {},
          "output_type": "execute_result"
        }
      ],
      "source": [
        "X[0]"
      ]
    },
    {
      "cell_type": "code",
      "execution_count": 28,
      "metadata": {
        "id": "hJisSzFafD1I"
      },
      "outputs": [],
      "source": [
        "from sklearn.model_selection import train_test_split\n",
        "X_train, X_test, y_train, y_test = train_test_split(X, y, test_size=0.2,stratify=y)"
      ]
    },
    {
      "cell_type": "code",
      "execution_count": 29,
      "metadata": {
        "id": "yYFiyvbIfMmn"
      },
      "outputs": [],
      "source": [
        "from sklearn.ensemble import RandomForestClassifier\n",
        "rf = RandomForestClassifier()"
      ]
    },
    {
      "cell_type": "code",
      "execution_count": 30,
      "metadata": {
        "colab": {
          "base_uri": "https://localhost:8080/"
        },
        "id": "PlvKwoWGfX5A",
        "outputId": "a0518549-e934-424a-99fa-656328f58782"
      },
      "outputs": [
        {
          "data": {
            "text/html": [
              "<style>#sk-container-id-1 {color: black;background-color: white;}#sk-container-id-1 pre{padding: 0;}#sk-container-id-1 div.sk-toggleable {background-color: white;}#sk-container-id-1 label.sk-toggleable__label {cursor: pointer;display: block;width: 100%;margin-bottom: 0;padding: 0.3em;box-sizing: border-box;text-align: center;}#sk-container-id-1 label.sk-toggleable__label-arrow:before {content: \"▸\";float: left;margin-right: 0.25em;color: #696969;}#sk-container-id-1 label.sk-toggleable__label-arrow:hover:before {color: black;}#sk-container-id-1 div.sk-estimator:hover label.sk-toggleable__label-arrow:before {color: black;}#sk-container-id-1 div.sk-toggleable__content {max-height: 0;max-width: 0;overflow: hidden;text-align: left;background-color: #f0f8ff;}#sk-container-id-1 div.sk-toggleable__content pre {margin: 0.2em;color: black;border-radius: 0.25em;background-color: #f0f8ff;}#sk-container-id-1 input.sk-toggleable__control:checked~div.sk-toggleable__content {max-height: 200px;max-width: 100%;overflow: auto;}#sk-container-id-1 input.sk-toggleable__control:checked~label.sk-toggleable__label-arrow:before {content: \"▾\";}#sk-container-id-1 div.sk-estimator input.sk-toggleable__control:checked~label.sk-toggleable__label {background-color: #d4ebff;}#sk-container-id-1 div.sk-label input.sk-toggleable__control:checked~label.sk-toggleable__label {background-color: #d4ebff;}#sk-container-id-1 input.sk-hidden--visually {border: 0;clip: rect(1px 1px 1px 1px);clip: rect(1px, 1px, 1px, 1px);height: 1px;margin: -1px;overflow: hidden;padding: 0;position: absolute;width: 1px;}#sk-container-id-1 div.sk-estimator {font-family: monospace;background-color: #f0f8ff;border: 1px dotted black;border-radius: 0.25em;box-sizing: border-box;margin-bottom: 0.5em;}#sk-container-id-1 div.sk-estimator:hover {background-color: #d4ebff;}#sk-container-id-1 div.sk-parallel-item::after {content: \"\";width: 100%;border-bottom: 1px solid gray;flex-grow: 1;}#sk-container-id-1 div.sk-label:hover label.sk-toggleable__label {background-color: #d4ebff;}#sk-container-id-1 div.sk-serial::before {content: \"\";position: absolute;border-left: 1px solid gray;box-sizing: border-box;top: 0;bottom: 0;left: 50%;z-index: 0;}#sk-container-id-1 div.sk-serial {display: flex;flex-direction: column;align-items: center;background-color: white;padding-right: 0.2em;padding-left: 0.2em;position: relative;}#sk-container-id-1 div.sk-item {position: relative;z-index: 1;}#sk-container-id-1 div.sk-parallel {display: flex;align-items: stretch;justify-content: center;background-color: white;position: relative;}#sk-container-id-1 div.sk-item::before, #sk-container-id-1 div.sk-parallel-item::before {content: \"\";position: absolute;border-left: 1px solid gray;box-sizing: border-box;top: 0;bottom: 0;left: 50%;z-index: -1;}#sk-container-id-1 div.sk-parallel-item {display: flex;flex-direction: column;z-index: 1;position: relative;background-color: white;}#sk-container-id-1 div.sk-parallel-item:first-child::after {align-self: flex-end;width: 50%;}#sk-container-id-1 div.sk-parallel-item:last-child::after {align-self: flex-start;width: 50%;}#sk-container-id-1 div.sk-parallel-item:only-child::after {width: 0;}#sk-container-id-1 div.sk-dashed-wrapped {border: 1px dashed gray;margin: 0 0.4em 0.5em 0.4em;box-sizing: border-box;padding-bottom: 0.4em;background-color: white;}#sk-container-id-1 div.sk-label label {font-family: monospace;font-weight: bold;display: inline-block;line-height: 1.2em;}#sk-container-id-1 div.sk-label-container {text-align: center;}#sk-container-id-1 div.sk-container {/* jupyter's `normalize.less` sets `[hidden] { display: none; }` but bootstrap.min.css set `[hidden] { display: none !important; }` so we also need the `!important` here to be able to override the default hidden behavior on the sphinx rendered scikit-learn.org. See: https://github.com/scikit-learn/scikit-learn/issues/21755 */display: inline-block !important;position: relative;}#sk-container-id-1 div.sk-text-repr-fallback {display: none;}</style><div id=\"sk-container-id-1\" class=\"sk-top-container\"><div class=\"sk-text-repr-fallback\"><pre>RandomForestClassifier()</pre><b>In a Jupyter environment, please rerun this cell to show the HTML representation or trust the notebook. <br />On GitHub, the HTML representation is unable to render, please try loading this page with nbviewer.org.</b></div><div class=\"sk-container\" hidden><div class=\"sk-item\"><div class=\"sk-estimator sk-toggleable\"><input class=\"sk-toggleable__control sk-hidden--visually\" id=\"sk-estimator-id-1\" type=\"checkbox\" checked><label for=\"sk-estimator-id-1\" class=\"sk-toggleable__label sk-toggleable__label-arrow\">RandomForestClassifier</label><div class=\"sk-toggleable__content\"><pre>RandomForestClassifier()</pre></div></div></div></div></div>"
            ],
            "text/plain": [
              "RandomForestClassifier()"
            ]
          },
          "execution_count": 30,
          "metadata": {},
          "output_type": "execute_result"
        }
      ],
      "source": [
        "rf.fit(X_train,y_train)"
      ]
    },
    {
      "cell_type": "code",
      "execution_count": 31,
      "metadata": {
        "id": "VygTwri1amL0"
      },
      "outputs": [
        {
          "data": {
            "text/plain": [
              "0.9783080260303688"
            ]
          },
          "execution_count": 31,
          "metadata": {},
          "output_type": "execute_result"
        }
      ],
      "source": [
        "y_pred = rf.predict(X_test)\n",
        "from sklearn.metrics import accuracy_score\n",
        "accuracy_score(y_test,y_pred)"
      ]
    },
    {
      "cell_type": "code",
      "execution_count": 32,
      "metadata": {},
      "outputs": [
        {
          "name": "stdout",
          "output_type": "stream",
          "text": [
            "Classification Report:\n",
            "              precision    recall  f1-score   support\n",
            "\n",
            "           0       0.97      0.99      0.98      2310\n",
            "           1       0.99      0.97      0.98      2300\n",
            "\n",
            "    accuracy                           0.98      4610\n",
            "   macro avg       0.98      0.98      0.98      4610\n",
            "weighted avg       0.98      0.98      0.98      4610\n",
            "\n"
          ]
        }
      ],
      "source": [
        "from sklearn.metrics import classification_report\n",
        "# Generate the classification report\n",
        "report = classification_report(y_test, y_pred)\n",
        "\n",
        "# Print the classification report\n",
        "print(\"Classification Report:\")\n",
        "print(report)"
      ]
    },
    {
      "cell_type": "code",
      "execution_count": 33,
      "metadata": {},
      "outputs": [
        {
          "name": "stdout",
          "output_type": "stream",
          "text": [
            "Precision = 0.9889\n",
            "Recall = 0.9674\n",
            "F1 Score = 0.978\n"
          ]
        }
      ],
      "source": [
        "from sklearn.metrics import (\n",
        "    precision_score,\n",
        "    recall_score,\n",
        "    f1_score,\n",
        "    confusion_matrix\n",
        ")\n",
        "\n",
        "precision = precision_score(y_test, y_pred)\n",
        "recall = recall_score(y_test, y_pred)\n",
        "f1score = f1_score(y_test, y_pred)\n",
        " \n",
        "print(f\"Precision = {precision.round(4)}\")\n",
        "print(f\"Recall = {recall.round(4)}\")\n",
        "print(f\"F1 Score = {f1score.round(4)}\")"
      ]
    },
    {
      "cell_type": "code",
      "execution_count": 34,
      "metadata": {},
      "outputs": [
        {
          "data": {
            "text/plain": [
              "array([[2285,   25],\n",
              "       [  75, 2225]], dtype=int64)"
            ]
          },
          "execution_count": 34,
          "metadata": {},
          "output_type": "execute_result"
        }
      ],
      "source": [
        "confusion_matrix(y_test,y_pred)"
      ]
    },
    {
      "cell_type": "code",
      "execution_count": 48,
      "metadata": {},
      "outputs": [
        {
          "name": "stdout",
          "output_type": "stream",
          "text": [
            "Predicted Label: [1]\n"
          ]
        }
      ],
      "source": [
        "health_content = \"Preventive health comes down to the innumerable micro-decisions each of us make every day. Bacon at breakfast may be another inconsequential food in your week, while a lifetime of eating processed meats can tip the scales between colon cancer and health.\"\n",
        "# Preprocess the input sentence\n",
        "preprocessed_sentence = spacy_tokenizer(health_content)\n",
        "\n",
        "# Convert the preprocessed sentence into a numerical feature vector\n",
        "input_vector = sent_vec(preprocessed_sentence)\n",
        "input_vector = input_vector.reshape(1, -1)  # Reshape the vector to match the model input shape\n",
        "\n",
        "# Use the trained RF model to predict the label for the input feature vector\n",
        "predicted_label = rf.predict(input_vector)\n",
        "\n",
        "# Print the predicted label\n",
        "print(\"Predicted Label:\", predicted_label)\n"
      ]
    }
  ],
  "metadata": {
    "colab": {
      "provenance": []
    },
    "kernelspec": {
      "display_name": "Python 3.9.10 ('venv': venv)",
      "language": "python",
      "name": "python3"
    },
    "language_info": {
      "codemirror_mode": {
        "name": "ipython",
        "version": 3
      },
      "file_extension": ".py",
      "mimetype": "text/x-python",
      "name": "python",
      "nbconvert_exporter": "python",
      "pygments_lexer": "ipython3",
      "version": "3.10.5"
    },
    "vscode": {
      "interpreter": {
        "hash": "3aee63c9909931f8570ab0af8ed7fb48514b1bc692251c446ac030d3ef29d031"
      }
    }
  },
  "nbformat": 4,
  "nbformat_minor": 0
}
